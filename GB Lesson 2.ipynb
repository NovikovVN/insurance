{
 "cells": [
  {
   "cell_type": "markdown",
   "metadata": {
    "colab_type": "text",
    "id": "HrxZEq_-FHNq"
   },
   "source": [
    "## Предобработка данных"
   ]
  },
  {
   "cell_type": "code",
   "execution_count": 1,
   "metadata": {
    "colab": {
     "base_uri": "https://localhost:8080/",
     "height": 34
    },
    "colab_type": "code",
    "executionInfo": {
     "elapsed": 2190,
     "status": "ok",
     "timestamp": 1576776109188,
     "user": {
      "displayName": "Aleksandr Shchegolev",
      "photoUrl": "",
      "userId": "00652555022685556919"
     },
     "user_tz": -180
    },
    "id": "eu9I-5AQFGy4",
    "outputId": "129b977d-e8bf-449d-beee-41cc9e088d19"
   },
   "outputs": [],
   "source": [
    "# Подключение к Google drive\n",
    "\n",
    "# from google.colab import drive\n",
    "# drive.mount('/content/drive')"
   ]
  },
  {
   "cell_type": "code",
   "execution_count": 2,
   "metadata": {
    "colab": {},
    "colab_type": "code",
    "id": "Fj2E6mVkFR10"
   },
   "outputs": [],
   "source": [
    "import numpy as np\n",
    "import pandas as pd"
   ]
  },
  {
   "cell_type": "code",
   "execution_count": 3,
   "metadata": {
    "colab": {
     "base_uri": "https://localhost:8080/",
     "height": 442
    },
    "colab_type": "code",
    "executionInfo": {
     "elapsed": 3602,
     "status": "ok",
     "timestamp": 1576776111437,
     "user": {
      "displayName": "Aleksandr Shchegolev",
      "photoUrl": "",
      "userId": "00652555022685556919"
     },
     "user_tz": -180
    },
    "id": "_Vs8YR9eFgvy",
    "outputId": "916bcca4-453d-4b1a-af53-ffc2e50466ba"
   },
   "outputs": [
    {
     "name": "stdout",
     "output_type": "stream",
     "text": [
      "<class 'pandas.core.frame.DataFrame'>\n",
      "RangeIndex: 115155 entries, 0 to 115154\n",
      "Data columns (total 20 columns):\n",
      "Exposure             115155 non-null float64\n",
      "LicAge               115155 non-null int64\n",
      "RecordBeg            115155 non-null object\n",
      "RecordEnd            59455 non-null object\n",
      "Gender               115155 non-null object\n",
      "MariStat             115155 non-null object\n",
      "SocioCateg           115155 non-null object\n",
      "VehUsage             115155 non-null object\n",
      "DrivAge              115155 non-null int64\n",
      "HasKmLimit           115155 non-null int64\n",
      "BonusMalus           115155 non-null int64\n",
      "ClaimAmount          115155 non-null float64\n",
      "ClaimInd             115155 non-null int64\n",
      "ClaimNbResp          115155 non-null float64\n",
      "ClaimNbNonResp       115155 non-null float64\n",
      "ClaimNbParking       115155 non-null float64\n",
      "ClaimNbFireTheft     115155 non-null float64\n",
      "ClaimNbWindscreen    115155 non-null float64\n",
      "OutUseNb             115155 non-null float64\n",
      "RiskArea             115155 non-null float64\n",
      "dtypes: float64(9), int64(5), object(6)\n",
      "memory usage: 17.6+ MB\n"
     ]
    }
   ],
   "source": [
    "# Загрузим набор данных\n",
    "\n",
    "# df = pd.read_csv('/content/drive/My Drive/Colab Notebooks/freMPL-R.csv', low_memory=False)\n",
    "df = pd.read_csv('freMPL-R.csv', low_memory=False)\n",
    "df = df.loc[df.Dataset.isin([5, 6, 7, 8, 9])]\n",
    "df.drop('Dataset', axis=1, inplace=True)\n",
    "df.dropna(axis=1, how='all', inplace=True)\n",
    "df.drop_duplicates(inplace=True)\n",
    "df.reset_index(drop=True, inplace=True)\n",
    "df.info()"
   ]
  },
  {
   "cell_type": "markdown",
   "metadata": {
    "colab_type": "text",
    "id": "AtfDb_BWWXqQ"
   },
   "source": [
    "В предыдущем уроке мы заметили отрицательную величину убытка для некоторых наблюдений. Заметим, что для всех таких полисов переменная \"ClaimInd\" принимает только значение 0. Поэтому заменим все соответствующие значения \"ClaimAmount\" нулями."
   ]
  },
  {
   "cell_type": "code",
   "execution_count": 4,
   "metadata": {
    "colab": {
     "base_uri": "https://localhost:8080/",
     "height": 221
    },
    "colab_type": "code",
    "executionInfo": {
     "elapsed": 2469,
     "status": "ok",
     "timestamp": 1576776111438,
     "user": {
      "displayName": "Aleksandr Shchegolev",
      "photoUrl": "",
      "userId": "00652555022685556919"
     },
     "user_tz": -180
    },
    "id": "AklwJWsoWnAV",
    "outputId": "06b89bc1-b70d-452b-c824-d4aa39d58814"
   },
   "outputs": [
    {
     "name": "stdout",
     "output_type": "stream",
     "text": [
      "Unique values of ClaimInd: [0]\n"
     ]
    },
    {
     "data": {
      "text/html": [
       "<div>\n",
       "<style scoped>\n",
       "    .dataframe tbody tr th:only-of-type {\n",
       "        vertical-align: middle;\n",
       "    }\n",
       "\n",
       "    .dataframe tbody tr th {\n",
       "        vertical-align: top;\n",
       "    }\n",
       "\n",
       "    .dataframe thead th {\n",
       "        text-align: right;\n",
       "    }\n",
       "</style>\n",
       "<table border=\"1\" class=\"dataframe\">\n",
       "  <thead>\n",
       "    <tr style=\"text-align: right;\">\n",
       "      <th></th>\n",
       "      <th>ClaimAmount</th>\n",
       "      <th>ClaimInd</th>\n",
       "    </tr>\n",
       "  </thead>\n",
       "  <tbody>\n",
       "    <tr>\n",
       "      <th>82</th>\n",
       "      <td>-74.206042</td>\n",
       "      <td>0</td>\n",
       "    </tr>\n",
       "    <tr>\n",
       "      <th>175</th>\n",
       "      <td>-1222.585196</td>\n",
       "      <td>0</td>\n",
       "    </tr>\n",
       "    <tr>\n",
       "      <th>177</th>\n",
       "      <td>-316.288822</td>\n",
       "      <td>0</td>\n",
       "    </tr>\n",
       "    <tr>\n",
       "      <th>363</th>\n",
       "      <td>-666.758610</td>\n",
       "      <td>0</td>\n",
       "    </tr>\n",
       "    <tr>\n",
       "      <th>375</th>\n",
       "      <td>-1201.600604</td>\n",
       "      <td>0</td>\n",
       "    </tr>\n",
       "  </tbody>\n",
       "</table>\n",
       "</div>"
      ],
      "text/plain": [
       "     ClaimAmount  ClaimInd\n",
       "82    -74.206042         0\n",
       "175 -1222.585196         0\n",
       "177  -316.288822         0\n",
       "363  -666.758610         0\n",
       "375 -1201.600604         0"
      ]
     },
     "execution_count": 4,
     "metadata": {},
     "output_type": "execute_result"
    }
   ],
   "source": [
    "NegClaimAmount = df.loc[df.ClaimAmount < 0, ['ClaimAmount','ClaimInd']]\n",
    "print('Unique values of ClaimInd:', NegClaimAmount.ClaimInd.unique())\n",
    "NegClaimAmount.head()"
   ]
  },
  {
   "cell_type": "code",
   "execution_count": 5,
   "metadata": {
    "colab": {},
    "colab_type": "code",
    "id": "R7laRWoCYF4V"
   },
   "outputs": [],
   "source": [
    "df.loc[df.ClaimAmount < 0, 'ClaimAmount'] = 0"
   ]
  },
  {
   "cell_type": "markdown",
   "metadata": {
    "colab_type": "text",
    "id": "6VuWyv7EGONj"
   },
   "source": [
    "Перекодируем переменные типа `object` с помощью числовых значений"
   ]
  },
  {
   "cell_type": "code",
   "execution_count": 6,
   "metadata": {
    "colab": {},
    "colab_type": "code",
    "id": "yivIrqGaGbSa"
   },
   "outputs": [],
   "source": [
    "def SeriesFactorizer(series):\n",
    "    series, unique = pd.factorize(series)\n",
    "    reference = {x: i for x, i in enumerate(unique)}\n",
    "    print(reference)\n",
    "    return series, reference"
   ]
  },
  {
   "cell_type": "code",
   "execution_count": 7,
   "metadata": {
    "colab": {
     "base_uri": "https://localhost:8080/",
     "height": 34
    },
    "colab_type": "code",
    "executionInfo": {
     "elapsed": 823,
     "status": "ok",
     "timestamp": 1576776114013,
     "user": {
      "displayName": "Aleksandr Shchegolev",
      "photoUrl": "",
      "userId": "00652555022685556919"
     },
     "user_tz": -180
    },
    "id": "G3SgrIBXGe3J",
    "outputId": "c37ea6b0-5aa6-4199-9277-5d8b83bc9563"
   },
   "outputs": [
    {
     "name": "stdout",
     "output_type": "stream",
     "text": [
      "{0: 'Male', 1: 'Female'}\n"
     ]
    }
   ],
   "source": [
    "df.Gender, GenderRef = SeriesFactorizer(df.Gender)"
   ]
  },
  {
   "cell_type": "code",
   "execution_count": 8,
   "metadata": {
    "colab": {
     "base_uri": "https://localhost:8080/",
     "height": 34
    },
    "colab_type": "code",
    "executionInfo": {
     "elapsed": 871,
     "status": "ok",
     "timestamp": 1576776114325,
     "user": {
      "displayName": "Aleksandr Shchegolev",
      "photoUrl": "",
      "userId": "00652555022685556919"
     },
     "user_tz": -180
    },
    "id": "HD6_Ie-2GggO",
    "outputId": "e3461c32-a12d-466e-a8de-2f154eeffb04"
   },
   "outputs": [
    {
     "name": "stdout",
     "output_type": "stream",
     "text": [
      "{0: 'Other', 1: 'Alone'}\n"
     ]
    }
   ],
   "source": [
    "df.MariStat, MariStatRef = SeriesFactorizer(df.MariStat)"
   ]
  },
  {
   "cell_type": "markdown",
   "metadata": {
    "colab_type": "text",
    "id": "ZdTe9JpiGvt9"
   },
   "source": [
    "Для переменных, содержащих более 2 значений, различия между которыми не могут упорядочены, используем фиктивные переменные (one-hot encoding).\n",
    "\n",
    "**NB**: В H2O не рекомендуется использовать one-hot encoding, поскольку данный фреймворк корректно работает с категориальными признаками, тогда как применение one-hot encoding приводит к неэффективности. Тем не менее, используем здесь фиктивные переменные, чтобы в дальнейшем сохранить возможность сравнения результатов построенных моделей."
   ]
  },
  {
   "cell_type": "code",
   "execution_count": 9,
   "metadata": {
    "colab": {
     "base_uri": "https://localhost:8080/",
     "height": 34
    },
    "colab_type": "code",
    "executionInfo": {
     "elapsed": 553,
     "status": "ok",
     "timestamp": 1576776114991,
     "user": {
      "displayName": "Aleksandr Shchegolev",
      "photoUrl": "",
      "userId": "00652555022685556919"
     },
     "user_tz": -180
    },
    "id": "VrN99Iv8Ht-G",
    "outputId": "fc444e9b-8b1a-44d5-bf91-279066569637"
   },
   "outputs": [
    {
     "data": {
      "text/plain": [
       "['Professional', 'Private+trip to office', 'Private', 'Professional run']"
      ]
     },
     "execution_count": 9,
     "metadata": {},
     "output_type": "execute_result"
    }
   ],
   "source": [
    "list(df.VehUsage.unique())"
   ]
  },
  {
   "cell_type": "code",
   "execution_count": 10,
   "metadata": {
    "colab": {
     "base_uri": "https://localhost:8080/",
     "height": 204
    },
    "colab_type": "code",
    "executionInfo": {
     "elapsed": 570,
     "status": "ok",
     "timestamp": 1576776115361,
     "user": {
      "displayName": "Aleksandr Shchegolev",
      "photoUrl": "",
      "userId": "00652555022685556919"
     },
     "user_tz": -180
    },
    "id": "WXfZa7lUH0Jf",
    "outputId": "acdeb4a8-bdf6-4cd3-e772-bfd26aea0e7e"
   },
   "outputs": [
    {
     "data": {
      "text/html": [
       "<div>\n",
       "<style scoped>\n",
       "    .dataframe tbody tr th:only-of-type {\n",
       "        vertical-align: middle;\n",
       "    }\n",
       "\n",
       "    .dataframe tbody tr th {\n",
       "        vertical-align: top;\n",
       "    }\n",
       "\n",
       "    .dataframe thead th {\n",
       "        text-align: right;\n",
       "    }\n",
       "</style>\n",
       "<table border=\"1\" class=\"dataframe\">\n",
       "  <thead>\n",
       "    <tr style=\"text-align: right;\">\n",
       "      <th></th>\n",
       "      <th>VehUsg_Private</th>\n",
       "      <th>VehUsg_Private+trip to office</th>\n",
       "      <th>VehUsg_Professional</th>\n",
       "      <th>VehUsg_Professional run</th>\n",
       "    </tr>\n",
       "  </thead>\n",
       "  <tbody>\n",
       "    <tr>\n",
       "      <th>0</th>\n",
       "      <td>0</td>\n",
       "      <td>0</td>\n",
       "      <td>1</td>\n",
       "      <td>0</td>\n",
       "    </tr>\n",
       "    <tr>\n",
       "      <th>1</th>\n",
       "      <td>0</td>\n",
       "      <td>0</td>\n",
       "      <td>1</td>\n",
       "      <td>0</td>\n",
       "    </tr>\n",
       "    <tr>\n",
       "      <th>2</th>\n",
       "      <td>0</td>\n",
       "      <td>1</td>\n",
       "      <td>0</td>\n",
       "      <td>0</td>\n",
       "    </tr>\n",
       "    <tr>\n",
       "      <th>3</th>\n",
       "      <td>0</td>\n",
       "      <td>1</td>\n",
       "      <td>0</td>\n",
       "      <td>0</td>\n",
       "    </tr>\n",
       "    <tr>\n",
       "      <th>4</th>\n",
       "      <td>1</td>\n",
       "      <td>0</td>\n",
       "      <td>0</td>\n",
       "      <td>0</td>\n",
       "    </tr>\n",
       "  </tbody>\n",
       "</table>\n",
       "</div>"
      ],
      "text/plain": [
       "   VehUsg_Private  VehUsg_Private+trip to office  VehUsg_Professional  \\\n",
       "0               0                              0                    1   \n",
       "1               0                              0                    1   \n",
       "2               0                              1                    0   \n",
       "3               0                              1                    0   \n",
       "4               1                              0                    0   \n",
       "\n",
       "   VehUsg_Professional run  \n",
       "0                        0  \n",
       "1                        0  \n",
       "2                        0  \n",
       "3                        0  \n",
       "4                        0  "
      ]
     },
     "execution_count": 10,
     "metadata": {},
     "output_type": "execute_result"
    }
   ],
   "source": [
    "VU_dummies = pd.get_dummies(df.VehUsage, prefix='VehUsg', drop_first=False)\n",
    "VU_dummies.head()"
   ]
  },
  {
   "cell_type": "code",
   "execution_count": 11,
   "metadata": {
    "colab": {},
    "colab_type": "code",
    "id": "TqMXDwqCHz_5"
   },
   "outputs": [],
   "source": [
    "df = pd.concat([df, VU_dummies], axis=1)"
   ]
  },
  {
   "cell_type": "markdown",
   "metadata": {
    "colab_type": "text",
    "id": "vSlx8FxWH9P2"
   },
   "source": [
    "Фактор \"SocioCateg\" содержит информацию о социальной категории в виде кодов классификации CSP. Агрегируем имеющиеся коды до 1 знака, а затем закодируем их с помощью one-hot encoding.\n",
    "\n",
    "[Wiki](https://fr.wikipedia.org/wiki/Professions_et_cat%C3%A9gories_socioprofessionnelles_en_France#Cr%C3%A9ation_de_la_nomenclature_des_PCS)\n",
    "\n",
    "[Более подробный классификатор](https://www.ast74.fr/upload/administratif/liste-des-codes-csp-copie.pdf)"
   ]
  },
  {
   "cell_type": "code",
   "execution_count": 12,
   "metadata": {
    "colab": {
     "base_uri": "https://localhost:8080/",
     "height": 136
    },
    "colab_type": "code",
    "executionInfo": {
     "elapsed": 793,
     "status": "ok",
     "timestamp": 1576776129938,
     "user": {
      "displayName": "Aleksandr Shchegolev",
      "photoUrl": "",
      "userId": "00652555022685556919"
     },
     "user_tz": -180
    },
    "id": "o-JmQOrFLjt1",
    "outputId": "f6c067f7-e921-4e70-8c9b-2e4318072314"
   },
   "outputs": [
    {
     "data": {
      "text/plain": [
       "array(['CSP50', 'CSP55', 'CSP60', 'CSP48', 'CSP6', 'CSP66', 'CSP1',\n",
       "       'CSP46', 'CSP21', 'CSP47', 'CSP42', 'CSP37', 'CSP22', 'CSP3',\n",
       "       'CSP49', 'CSP20', 'CSP2', 'CSP40', 'CSP7', 'CSP26', 'CSP65',\n",
       "       'CSP41', 'CSP17', 'CSP57', 'CSP56', 'CSP38', 'CSP51', 'CSP59',\n",
       "       'CSP30', 'CSP44', 'CSP61', 'CSP63', 'CSP45', 'CSP16', 'CSP43',\n",
       "       'CSP39', 'CSP5', 'CSP32', 'CSP35', 'CSP73', 'CSP62', 'CSP52',\n",
       "       'CSP27', 'CSP24', 'CSP19', 'CSP70'], dtype=object)"
      ]
     },
     "execution_count": 12,
     "metadata": {},
     "output_type": "execute_result"
    }
   ],
   "source": [
    "df['SocioCateg'].unique()"
   ]
  },
  {
   "cell_type": "code",
   "execution_count": 13,
   "metadata": {
    "colab": {},
    "colab_type": "code",
    "id": "6knnpiia1a-D"
   },
   "outputs": [],
   "source": [
    "df['SocioCateg'] = df.SocioCateg.str.slice(0,4)"
   ]
  },
  {
   "cell_type": "code",
   "execution_count": 14,
   "metadata": {
    "colab": {
     "base_uri": "https://localhost:8080/",
     "height": 297
    },
    "colab_type": "code",
    "executionInfo": {
     "elapsed": 22583,
     "status": "ok",
     "timestamp": 1576771195132,
     "user": {
      "displayName": "Aleksandr Shchegolev",
      "photoUrl": "",
      "userId": "00652555022685556919"
     },
     "user_tz": -180
    },
    "id": "gbAPu6XeH9nj",
    "outputId": "04736986-6381-4018-8a67-8af9f7b08d3c"
   },
   "outputs": [
    {
     "data": {
      "text/html": [
       "<div>\n",
       "<style scoped>\n",
       "    .dataframe tbody tr th:only-of-type {\n",
       "        vertical-align: middle;\n",
       "    }\n",
       "\n",
       "    .dataframe tbody tr th {\n",
       "        vertical-align: top;\n",
       "    }\n",
       "\n",
       "    .dataframe thead th {\n",
       "        text-align: right;\n",
       "    }\n",
       "</style>\n",
       "<table border=\"1\" class=\"dataframe\">\n",
       "  <thead>\n",
       "    <tr style=\"text-align: right;\">\n",
       "      <th></th>\n",
       "      <th>Frequency</th>\n",
       "    </tr>\n",
       "    <tr>\n",
       "      <th>SocioCateg</th>\n",
       "      <th></th>\n",
       "    </tr>\n",
       "  </thead>\n",
       "  <tbody>\n",
       "    <tr>\n",
       "      <th>CSP7</th>\n",
       "      <td>14</td>\n",
       "    </tr>\n",
       "    <tr>\n",
       "      <th>CSP3</th>\n",
       "      <td>1210</td>\n",
       "    </tr>\n",
       "    <tr>\n",
       "      <th>CSP1</th>\n",
       "      <td>2740</td>\n",
       "    </tr>\n",
       "    <tr>\n",
       "      <th>CSP2</th>\n",
       "      <td>3254</td>\n",
       "    </tr>\n",
       "    <tr>\n",
       "      <th>CSP4</th>\n",
       "      <td>7648</td>\n",
       "    </tr>\n",
       "    <tr>\n",
       "      <th>CSP6</th>\n",
       "      <td>24833</td>\n",
       "    </tr>\n",
       "    <tr>\n",
       "      <th>CSP5</th>\n",
       "      <td>75456</td>\n",
       "    </tr>\n",
       "  </tbody>\n",
       "</table>\n",
       "</div>"
      ],
      "text/plain": [
       "            Frequency\n",
       "SocioCateg           \n",
       "CSP7               14\n",
       "CSP3             1210\n",
       "CSP1             2740\n",
       "CSP2             3254\n",
       "CSP4             7648\n",
       "CSP6            24833\n",
       "CSP5            75456"
      ]
     },
     "execution_count": 14,
     "metadata": {},
     "output_type": "execute_result"
    }
   ],
   "source": [
    "SocCatSize = pd.DataFrame(df.groupby('SocioCateg').size().sort_values(), columns=['Frequency'])\n",
    "SocCatSize"
   ]
  },
  {
   "cell_type": "code",
   "execution_count": 15,
   "metadata": {
    "colab": {},
    "colab_type": "code",
    "id": "zPfpFjNiKHtj"
   },
   "outputs": [],
   "source": [
    "df = pd.concat([df, pd.get_dummies(df.SocioCateg)], axis=1)"
   ]
  },
  {
   "cell_type": "markdown",
   "metadata": {
    "colab_type": "text",
    "id": "xuMe7c-wKT3H"
   },
   "source": [
    "Теперь, когда большинство переменных типа `object` обработаны, исключим их из набора данных за ненадобностью."
   ]
  },
  {
   "cell_type": "code",
   "execution_count": 16,
   "metadata": {
    "colab": {},
    "colab_type": "code",
    "id": "HBbmRHUFKRql"
   },
   "outputs": [],
   "source": [
    "df = df.select_dtypes(exclude=['object'])"
   ]
  },
  {
   "cell_type": "markdown",
   "metadata": {
    "colab_type": "text",
    "id": "SYrDMnrEAFwG"
   },
   "source": [
    "Также создадим такую переменную, как квадрат возраста."
   ]
  },
  {
   "cell_type": "code",
   "execution_count": 17,
   "metadata": {
    "colab": {
     "base_uri": "https://localhost:8080/",
     "height": 241
    },
    "colab_type": "code",
    "executionInfo": {
     "elapsed": 22568,
     "status": "ok",
     "timestamp": 1576771195133,
     "user": {
      "displayName": "Aleksandr Shchegolev",
      "photoUrl": "",
      "userId": "00652555022685556919"
     },
     "user_tz": -180
    },
    "id": "Sduuts5fAAmK",
    "outputId": "40e4e9c9-f17e-4893-b5fe-559ecdb14b02"
   },
   "outputs": [
    {
     "data": {
      "text/html": [
       "<div>\n",
       "<style scoped>\n",
       "    .dataframe tbody tr th:only-of-type {\n",
       "        vertical-align: middle;\n",
       "    }\n",
       "\n",
       "    .dataframe tbody tr th {\n",
       "        vertical-align: top;\n",
       "    }\n",
       "\n",
       "    .dataframe thead th {\n",
       "        text-align: right;\n",
       "    }\n",
       "</style>\n",
       "<table border=\"1\" class=\"dataframe\">\n",
       "  <thead>\n",
       "    <tr style=\"text-align: right;\">\n",
       "      <th></th>\n",
       "      <th>Exposure</th>\n",
       "      <th>LicAge</th>\n",
       "      <th>Gender</th>\n",
       "      <th>MariStat</th>\n",
       "      <th>DrivAge</th>\n",
       "      <th>HasKmLimit</th>\n",
       "      <th>BonusMalus</th>\n",
       "      <th>ClaimAmount</th>\n",
       "      <th>ClaimInd</th>\n",
       "      <th>ClaimNbResp</th>\n",
       "      <th>...</th>\n",
       "      <th>VehUsg_Professional</th>\n",
       "      <th>VehUsg_Professional run</th>\n",
       "      <th>CSP1</th>\n",
       "      <th>CSP2</th>\n",
       "      <th>CSP3</th>\n",
       "      <th>CSP4</th>\n",
       "      <th>CSP5</th>\n",
       "      <th>CSP6</th>\n",
       "      <th>CSP7</th>\n",
       "      <th>DrivAgeSq</th>\n",
       "    </tr>\n",
       "  </thead>\n",
       "  <tbody>\n",
       "    <tr>\n",
       "      <th>0</th>\n",
       "      <td>0.083</td>\n",
       "      <td>332</td>\n",
       "      <td>0</td>\n",
       "      <td>0</td>\n",
       "      <td>46</td>\n",
       "      <td>0</td>\n",
       "      <td>50</td>\n",
       "      <td>0.0</td>\n",
       "      <td>0</td>\n",
       "      <td>0.0</td>\n",
       "      <td>...</td>\n",
       "      <td>1</td>\n",
       "      <td>0</td>\n",
       "      <td>0</td>\n",
       "      <td>0</td>\n",
       "      <td>0</td>\n",
       "      <td>0</td>\n",
       "      <td>1</td>\n",
       "      <td>0</td>\n",
       "      <td>0</td>\n",
       "      <td>2116</td>\n",
       "    </tr>\n",
       "    <tr>\n",
       "      <th>1</th>\n",
       "      <td>0.916</td>\n",
       "      <td>333</td>\n",
       "      <td>0</td>\n",
       "      <td>0</td>\n",
       "      <td>46</td>\n",
       "      <td>0</td>\n",
       "      <td>50</td>\n",
       "      <td>0.0</td>\n",
       "      <td>0</td>\n",
       "      <td>0.0</td>\n",
       "      <td>...</td>\n",
       "      <td>1</td>\n",
       "      <td>0</td>\n",
       "      <td>0</td>\n",
       "      <td>0</td>\n",
       "      <td>0</td>\n",
       "      <td>0</td>\n",
       "      <td>1</td>\n",
       "      <td>0</td>\n",
       "      <td>0</td>\n",
       "      <td>2116</td>\n",
       "    </tr>\n",
       "    <tr>\n",
       "      <th>2</th>\n",
       "      <td>0.550</td>\n",
       "      <td>173</td>\n",
       "      <td>0</td>\n",
       "      <td>0</td>\n",
       "      <td>32</td>\n",
       "      <td>0</td>\n",
       "      <td>68</td>\n",
       "      <td>0.0</td>\n",
       "      <td>0</td>\n",
       "      <td>0.0</td>\n",
       "      <td>...</td>\n",
       "      <td>0</td>\n",
       "      <td>0</td>\n",
       "      <td>0</td>\n",
       "      <td>0</td>\n",
       "      <td>0</td>\n",
       "      <td>0</td>\n",
       "      <td>1</td>\n",
       "      <td>0</td>\n",
       "      <td>0</td>\n",
       "      <td>1024</td>\n",
       "    </tr>\n",
       "    <tr>\n",
       "      <th>3</th>\n",
       "      <td>0.089</td>\n",
       "      <td>364</td>\n",
       "      <td>1</td>\n",
       "      <td>0</td>\n",
       "      <td>52</td>\n",
       "      <td>0</td>\n",
       "      <td>50</td>\n",
       "      <td>0.0</td>\n",
       "      <td>0</td>\n",
       "      <td>0.0</td>\n",
       "      <td>...</td>\n",
       "      <td>0</td>\n",
       "      <td>0</td>\n",
       "      <td>0</td>\n",
       "      <td>0</td>\n",
       "      <td>0</td>\n",
       "      <td>0</td>\n",
       "      <td>1</td>\n",
       "      <td>0</td>\n",
       "      <td>0</td>\n",
       "      <td>2704</td>\n",
       "    </tr>\n",
       "    <tr>\n",
       "      <th>4</th>\n",
       "      <td>0.233</td>\n",
       "      <td>426</td>\n",
       "      <td>0</td>\n",
       "      <td>0</td>\n",
       "      <td>57</td>\n",
       "      <td>0</td>\n",
       "      <td>50</td>\n",
       "      <td>0.0</td>\n",
       "      <td>0</td>\n",
       "      <td>0.0</td>\n",
       "      <td>...</td>\n",
       "      <td>0</td>\n",
       "      <td>0</td>\n",
       "      <td>0</td>\n",
       "      <td>0</td>\n",
       "      <td>0</td>\n",
       "      <td>0</td>\n",
       "      <td>0</td>\n",
       "      <td>1</td>\n",
       "      <td>0</td>\n",
       "      <td>3249</td>\n",
       "    </tr>\n",
       "  </tbody>\n",
       "</table>\n",
       "<p>5 rows × 28 columns</p>\n",
       "</div>"
      ],
      "text/plain": [
       "   Exposure  LicAge  Gender  MariStat  DrivAge  HasKmLimit  BonusMalus  \\\n",
       "0     0.083     332       0         0       46           0          50   \n",
       "1     0.916     333       0         0       46           0          50   \n",
       "2     0.550     173       0         0       32           0          68   \n",
       "3     0.089     364       1         0       52           0          50   \n",
       "4     0.233     426       0         0       57           0          50   \n",
       "\n",
       "   ClaimAmount  ClaimInd  ClaimNbResp  ...  VehUsg_Professional  \\\n",
       "0          0.0         0          0.0  ...                    1   \n",
       "1          0.0         0          0.0  ...                    1   \n",
       "2          0.0         0          0.0  ...                    0   \n",
       "3          0.0         0          0.0  ...                    0   \n",
       "4          0.0         0          0.0  ...                    0   \n",
       "\n",
       "   VehUsg_Professional run  CSP1  CSP2  CSP3  CSP4  CSP5  CSP6  CSP7  \\\n",
       "0                        0     0     0     0     0     1     0     0   \n",
       "1                        0     0     0     0     0     1     0     0   \n",
       "2                        0     0     0     0     0     1     0     0   \n",
       "3                        0     0     0     0     0     1     0     0   \n",
       "4                        0     0     0     0     0     0     1     0   \n",
       "\n",
       "   DrivAgeSq  \n",
       "0       2116  \n",
       "1       2116  \n",
       "2       1024  \n",
       "3       2704  \n",
       "4       3249  \n",
       "\n",
       "[5 rows x 28 columns]"
      ]
     },
     "execution_count": 17,
     "metadata": {},
     "output_type": "execute_result"
    }
   ],
   "source": [
    "df['DrivAgeSq'] = df.DrivAge.apply(lambda x: x**2)\n",
    "df.head()"
   ]
  },
  {
   "cell_type": "markdown",
   "metadata": {
    "colab_type": "text",
    "id": "XE_3dSsW3J3X"
   },
   "source": [
    "Для моделирования частоты убытков сгенерируем показатель как сумму индикатора того, что убыток произошел (\"ClaimInd\") и количества заявленных убытков по различным видам ущерба за 4 предшествующих года (\"ClaimNbResp\", \"ClaimNbNonResp\", \"ClaimNbParking\", \"ClaimNbFireTheft\", \"ClaimNbWindscreen\").\n",
    "\n",
    "В случаях, если соответствующая величина убытка равняется нулю, сгенерированную частоту также обнулим."
   ]
  },
  {
   "cell_type": "code",
   "execution_count": 18,
   "metadata": {
    "colab": {},
    "colab_type": "code",
    "id": "R6rz5Oko3rbr"
   },
   "outputs": [],
   "source": [
    "df['ClaimsCount'] = df.ClaimInd + df.ClaimNbResp + df.ClaimNbNonResp + df.ClaimNbParking + df.ClaimNbFireTheft + df.ClaimNbWindscreen\n",
    "df.loc[df.ClaimAmount == 0, 'ClaimsCount'] = 0\n",
    "df.drop([\"ClaimNbResp\", \"ClaimNbNonResp\", \"ClaimNbParking\", \"ClaimNbFireTheft\", \"ClaimNbWindscreen\"], axis=1, inplace=True)"
   ]
  },
  {
   "cell_type": "code",
   "execution_count": 19,
   "metadata": {
    "colab": {
     "base_uri": "https://localhost:8080/",
     "height": 421
    },
    "colab_type": "code",
    "executionInfo": {
     "elapsed": 22896,
     "status": "ok",
     "timestamp": 1576771195477,
     "user": {
      "displayName": "Aleksandr Shchegolev",
      "photoUrl": "",
      "userId": "00652555022685556919"
     },
     "user_tz": -180
    },
    "id": "cJ5_aqnx4FcZ",
    "outputId": "0eb5b6e3-c1af-4945-dbb5-245741d9ab44"
   },
   "outputs": [
    {
     "data": {
      "text/html": [
       "<div>\n",
       "<style scoped>\n",
       "    .dataframe tbody tr th:only-of-type {\n",
       "        vertical-align: middle;\n",
       "    }\n",
       "\n",
       "    .dataframe tbody tr th {\n",
       "        vertical-align: top;\n",
       "    }\n",
       "\n",
       "    .dataframe thead th {\n",
       "        text-align: right;\n",
       "    }\n",
       "</style>\n",
       "<table border=\"1\" class=\"dataframe\">\n",
       "  <thead>\n",
       "    <tr style=\"text-align: right;\">\n",
       "      <th></th>\n",
       "      <th>Policies</th>\n",
       "    </tr>\n",
       "    <tr>\n",
       "      <th>ClaimsCount</th>\n",
       "      <th></th>\n",
       "    </tr>\n",
       "  </thead>\n",
       "  <tbody>\n",
       "    <tr>\n",
       "      <th>0.0</th>\n",
       "      <td>104286</td>\n",
       "    </tr>\n",
       "    <tr>\n",
       "      <th>1.0</th>\n",
       "      <td>3339</td>\n",
       "    </tr>\n",
       "    <tr>\n",
       "      <th>2.0</th>\n",
       "      <td>3529</td>\n",
       "    </tr>\n",
       "    <tr>\n",
       "      <th>3.0</th>\n",
       "      <td>2310</td>\n",
       "    </tr>\n",
       "    <tr>\n",
       "      <th>4.0</th>\n",
       "      <td>1101</td>\n",
       "    </tr>\n",
       "    <tr>\n",
       "      <th>5.0</th>\n",
       "      <td>428</td>\n",
       "    </tr>\n",
       "    <tr>\n",
       "      <th>6.0</th>\n",
       "      <td>127</td>\n",
       "    </tr>\n",
       "    <tr>\n",
       "      <th>7.0</th>\n",
       "      <td>26</td>\n",
       "    </tr>\n",
       "    <tr>\n",
       "      <th>8.0</th>\n",
       "      <td>6</td>\n",
       "    </tr>\n",
       "    <tr>\n",
       "      <th>9.0</th>\n",
       "      <td>2</td>\n",
       "    </tr>\n",
       "    <tr>\n",
       "      <th>11.0</th>\n",
       "      <td>1</td>\n",
       "    </tr>\n",
       "  </tbody>\n",
       "</table>\n",
       "</div>"
      ],
      "text/plain": [
       "             Policies\n",
       "ClaimsCount          \n",
       "0.0            104286\n",
       "1.0              3339\n",
       "2.0              3529\n",
       "3.0              2310\n",
       "4.0              1101\n",
       "5.0               428\n",
       "6.0               127\n",
       "7.0                26\n",
       "8.0                 6\n",
       "9.0                 2\n",
       "11.0                1"
      ]
     },
     "execution_count": 19,
     "metadata": {},
     "output_type": "execute_result"
    }
   ],
   "source": [
    "ClaimsCountGroup = pd.DataFrame(df.groupby('ClaimsCount').size(), columns=['Policies'])\n",
    "ClaimsCountGroup"
   ]
  },
  {
   "cell_type": "code",
   "execution_count": 20,
   "metadata": {
    "colab": {
     "base_uri": "https://localhost:8080/",
     "height": 617
    },
    "colab_type": "code",
    "executionInfo": {
     "elapsed": 26904,
     "status": "ok",
     "timestamp": 1576771199493,
     "user": {
      "displayName": "Aleksandr Shchegolev",
      "photoUrl": "",
      "userId": "00652555022685556919"
     },
     "user_tz": -180
    },
    "id": "A0zvYuoZ4gcH",
    "outputId": "91c6b8c0-202e-4e71-ffdc-3f65fb627521"
   },
   "outputs": [],
   "source": [
    "# import plotly.express as px\n",
    "# fig = px.scatter(df, x='ClaimsCount', y='ClaimAmount', title='Зависимость между частотой и величиной убытков')\n",
    "# fig.show()"
   ]
  },
  {
   "cell_type": "markdown",
   "metadata": {
    "colab_type": "text",
    "id": "iCZAeoll6xac"
   },
   "source": [
    "Для моделирования среднего убытка можем рассчитать его как отношение величины убытков к их частоте."
   ]
  },
  {
   "cell_type": "code",
   "execution_count": 21,
   "metadata": {
    "colab": {},
    "colab_type": "code",
    "id": "y9AKwYtU6x1i"
   },
   "outputs": [],
   "source": [
    "dfAC = df[df.ClaimsCount > 0].copy()\n",
    "dfAC['AvgClaim'] = dfAC.ClaimAmount/dfAC.ClaimsCount"
   ]
  },
  {
   "cell_type": "markdown",
   "metadata": {
    "colab_type": "text",
    "id": "VpYxkXdrLD01"
   },
   "source": [
    "## Разделение набора данных на обучающую, валидационную и тестовую выборки"
   ]
  },
  {
   "cell_type": "code",
   "execution_count": 22,
   "metadata": {
    "colab": {},
    "colab_type": "code",
    "id": "piO1n8o2LFAJ"
   },
   "outputs": [],
   "source": [
    "from sklearn.model_selection import train_test_split"
   ]
  },
  {
   "cell_type": "code",
   "execution_count": 23,
   "metadata": {
    "colab": {},
    "colab_type": "code",
    "id": "dGvhYDXdLFoR"
   },
   "outputs": [],
   "source": [
    "# Разбиение датасета для частоты на train/val/test\n",
    "\n",
    "x_train_c, x_test_c, y_train_c, y_test_c = train_test_split(df.drop(['ClaimInd', 'ClaimAmount', 'ClaimsCount'], axis=1), df.ClaimsCount, test_size=0.15, random_state=1)\n",
    "x_train_c, x_valid_c, y_train_c, y_valid_c = train_test_split(x_train_c, y_train_c, test_size=0.15, random_state=1)"
   ]
  },
  {
   "cell_type": "code",
   "execution_count": 24,
   "metadata": {
    "colab": {},
    "colab_type": "code",
    "id": "XBBJ06RA96Xk"
   },
   "outputs": [],
   "source": [
    "# Разбиение датасета для среднего убытка на train/val/test \n",
    "\n",
    "x_train_ac, x_test_ac, y_train_ac, y_test_ac = train_test_split(dfAC.drop(['ClaimInd', 'ClaimAmount', 'ClaimsCount', 'AvgClaim'], axis=1), dfAC.AvgClaim, test_size=0.15, random_state=1)\n",
    "x_train_ac, x_valid_ac, y_train_ac, y_valid_ac = train_test_split(x_train_ac, y_train_ac, test_size=0.15, random_state=1)"
   ]
  },
  {
   "cell_type": "markdown",
   "metadata": {
    "colab_type": "text",
    "id": "MVH6ncAFgWXF"
   },
   "source": [
    "## Обобщенные линейные модели (Generalized Linear Models, GLM)"
   ]
  },
  {
   "cell_type": "markdown",
   "metadata": {
    "colab_type": "text",
    "id": "Irg71_9zMJxT"
   },
   "source": [
    "### Теория"
   ]
  },
  {
   "cell_type": "markdown",
   "metadata": {
    "colab_type": "text",
    "id": "R5SOE8shgaDi"
   },
   "source": [
    "Пусть $y$ – целевая переменная, $X$ – матрица объясняющих переменных, $\\beta$ – вектор параметров модели.\n",
    "\n",
    "Матрица $X$ составлена из всех векторов наблюдений $x_i$, каждый из которых представляет собой объясняющую переменную.\n",
    "\n",
    "Основные компоненты обобщенной линейной модели:\n",
    "* Систематическая компонента $\\eta$:\n",
    "    * $\\eta = X\\beta \\hspace{10pt}(=\\beta_0+\\beta_1x_1+\\beta_2x_2+\\dots+\\beta_nx_n)$.\n",
    "* Случайная компонента $y$:\n",
    "    * Элементы вектора $y$ – независимые одинаково распределенные случайные величины, имеющие функцию плотности распределения $f(y;\\theta,\\phi)$ из экспоненциального семейства.\n",
    "    * Распределения из экспоненциального семейства имеют параметры $\\theta$ (характеристика среднего) и $\\phi$ (характеристика дисперсии). В общем виде данные распределения могут быть определены:\n",
    "    $$f_i(y_i;\\theta_i,\\phi)=\\exp\\left\\lbrace \\frac{y_i\\theta_i-b(\\theta_i)}{a_i(\\phi)} + c(y_i, \\phi) \\right\\rbrace,$$\n",
    "    где $a_i(\\phi)$, $b(\\theta_i)$ и $c(y_i, \\phi)$ некоторые функции.\n",
    "    * Для распределений из данного семейства дисперсия является функцией от среднего.\n",
    "    * Экспоненциальное семейство включает распределения нормальное, экспоненциальное, Пуассона, гамма, хи-квадрат, бета и другие.\n",
    "* Функция связи $g$:\n",
    "    * $\\mathbb{E}\\left[y\\right]=\\mu=g^{-1}\\left(\\eta\\right)$, $\\mu$ – математическое ожидание $y$;\n",
    "    * $g$ – монотонная дифференцируемая функция.\n",
    "\n",
    "\n"
   ]
  },
  {
   "cell_type": "markdown",
   "metadata": {
    "colab_type": "text",
    "id": "LoBqR6SkGDKm"
   },
   "source": [
    "#### GLM с распределением Пуассона"
   ]
  },
  {
   "cell_type": "markdown",
   "metadata": {
    "colab_type": "text",
    "id": "stmssdazGHpt"
   },
   "source": [
    "Регрессия Пуассона обычно используется в случаях, когда зависимая переменная представляет собой счетные значения и ошибки предполагаются распределенными в соответствии с распределением Пуассона. Зависимая переменная должна быть неотрицательной.\n",
    "\n",
    "Функции связи между таргетом и объясняющими переменными предполагается логарифмической:\n",
    "$$g(\\eta) = \\ln(\\eta) \\Rightarrow \\hat {y} = e^{x{^T}\\beta + {\\beta_{0}}}.$$\n",
    "\n",
    "Модель оценивается методом максимального правдоподобия, функция логарифма правдоподобия с учетом штрафа регуляризации эластичной сети имеет вид:\n",
    "$$\\max_{\\beta,\\beta_0} \\frac{1}{N} \\sum_{i=1}^{N} \\Big( y_i(x_{i}^{T}\\beta + \\beta_0) - e^{x{^T_i}\\beta + {\\beta_0}} \\Big)- \\lambda \\Big( \\alpha||\\beta||_1 + \\dfrac {1} {2}(1 - \\alpha)||\\beta||^2_2 \\Big),$$\n",
    "\n",
    "где \n",
    "* $\\lambda$ – параметр, отвечающий за силу регуляризации. $\\lambda\\in\\mathbb{R}^{+}$;\n",
    "* $\\alpha$ – параметр, отвечающий за распределение штрафов регуляризации между нормой 1 ($\\ell_1$) и нормой 2 ($\\ell_2$). $\\alpha\\in[0,1]$;\n",
    "* $||\\beta||{_1}$ – штраф регуляризации $\\ell_1$ (LASSO). $||\\beta||{_1} = \\sum{^p_{k=1}} |\\beta{_k}|$;\n",
    "* $||\\beta||{_2}$ – штраф регуляризации $\\ell_2$ (Ridge). $||\\beta||{_2} = \\sum{^p_{k=1}} \\beta{^2_k}$.\n",
    "\n",
    "Тогда соответствующая метрика _Deviance_ имеет вид:\n",
    "$$D = -2 \\sum_{i=1}^{N} \\big( y_i \\text{ln}(y_i / \\hat {y}_i) - (y_i - \\hat {y}_i) \\big).$$"
   ]
  },
  {
   "cell_type": "markdown",
   "metadata": {
    "colab_type": "text",
    "id": "6qEMtZhcy0nZ"
   },
   "source": [
    "##### Вывод функции правдоподобия для GLM с распределением Пуассона (без регуляризации)"
   ]
  },
  {
   "cell_type": "markdown",
   "metadata": {
    "colab_type": "text",
    "id": "ByGAuksEUt3c"
   },
   "source": [
    "**NB:** Ниже $\\lambda$ не имеет отношения к вышеупомянутому одноименному параметру регуляризации."
   ]
  },
  {
   "cell_type": "markdown",
   "metadata": {
    "colab_type": "text",
    "id": "YN6oPpI_3Tg-"
   },
   "source": [
    "Напомним, что функция вероятности для распределения Пуассона имеет вид:\n",
    "$$p(k;\\lambda) = \\frac{\\lambda^k e^{-\\lambda}}{k!}, \\hspace{10pt} \\lambda\\in\\mathbb{R}^{+}.$$\n",
    "Также, для распределения Пуассона справедливо, что:\n",
    "$$\\mathbb{E}\\left[k\\right] = Var(k) = \\lambda.$$\n",
    "Тогда, для оценивания коэффициентов нашей модели необходимо максимизировать правдоподобие (совместную условную вероятность при имеющихся данных), что данные имеют распределение Пуассона:\n",
    "$$p(y_1,\\dots,y_n|x_1,\\dots,x_n;\\beta_0,\\beta) = \\prod_{i=1}^{N}\\frac{e^{y_i(x_i{^T}\\beta + {\\beta_{0}})} e^{-e^{x_i{^T}\\beta + {\\beta_{0}}}}}{y_i!} = L(\\beta_0,\\beta|y_1,\\dots,y_n,x_1,\\dots,x_n).$$\n",
    "Для упрощения задачи оптимизации перейдем к логарифму правдоподобия:\n",
    "$$\\ell(\\beta_0,\\beta|y_1,\\dots,y_n,x_1,\\dots,x_n) = \\sum_{i=1}^{N}\\left(y_i(x_i{^T}\\beta + {\\beta_{0}}) -e^{x_i{^T}\\beta + {\\beta_{0}}}-\\ln(y_i!)\\right).$$\n",
    "Поскольку величина $\\ln(y_i!)$ не зависит от выбора параметров, можно упростить задачу:\n",
    "$$\\ell(\\beta_0,\\beta|y_1,\\dots,y_n,x_1,\\dots,x_n) = \\sum_{i=1}^{N}\\left(y_i(x_i{^T}\\beta + {\\beta_{0}}) -e^{x_i{^T}\\beta + {\\beta_{0}}}\\right).$$\n",
    "Далее численно решается задача оптимизации для определения параметров модели:\n",
    "$$\\frac{\\partial \\ell(\\beta_0,\\beta|y_1,\\dots,y_n,x_1,\\dots,x_n)}{\\partial \\beta_0} = 0,\\\\\\frac{\\partial \\ell(\\beta_0,\\beta|y_1,\\dots,y_n,x_1,\\dots,x_n)}{\\partial \\beta} = 0.$$\n",
    "Обычно минимизируется отрицательное правдоподобие, которое является выпуклой функцией."
   ]
  },
  {
   "cell_type": "markdown",
   "metadata": {
    "colab_type": "text",
    "id": "rXdxE61XFNXd"
   },
   "source": [
    "##### Вывод метрики Deviance для GLM с распределением Пуассона"
   ]
  },
  {
   "cell_type": "markdown",
   "metadata": {
    "colab_type": "text",
    "id": "zP2oklD3FVgC"
   },
   "source": [
    "Метрика Deviance представляет собой отношение правдоподобия между двумя моделями: рассматриваемой моделью и \"идеальной\" моделью, в которая бы идеально предсказывала бы зависимую переменную.\n",
    "$$Deviance = 2(\\ell_{ideal} - \\ell_{model})$$\n",
    "\n",
    "В качестве такой \"идеальной модели\" может использоваться сама зависимая переменная. Тогда, логарифм правдоподобия \"идеальной модели\" для GLM с распределением Пуассона имеет вид:\n",
    "$$\\ell_{ideal} = \\sum_{i=1}^{N}\\left(y_i \\ln(y_i) -y_i-\\ln(y_i!)\\right).$$\n",
    "\n",
    "Из приведенного выше вывода правдоподобия для рассматриваемой модели, мы можем записать, обозначив $\\hat{y}_i = e^{x{^T}\\beta + {\\beta_{0}}}$:\n",
    "$$\\ell_{model} = \\sum_{i=1}^{N}\\left(y_i \\ln(\\hat{y}_i) -\\hat{y}_i-\\ln(y_i!)\\right).$$\n",
    "\n",
    "Тогда получаем,\n",
    "$$Deviance = 2\\sum_{i=1}^{N}\\left(y_i \\ln(y_i) -y_i - y_i \\ln(\\hat{y}_i) +\\hat{y}_i\\right) = -2\\sum_{i=1}^{N}\\left(y_i \\ln(y_i/\\hat{y}_i) - (y_i -\\hat{y}_i)\\right).$$\n"
   ]
  },
  {
   "cell_type": "markdown",
   "metadata": {
    "colab_type": "text",
    "id": "vTWFrSADGE2v"
   },
   "source": [
    "#### GLM с гамма-распределением"
   ]
  },
  {
   "cell_type": "markdown",
   "metadata": {
    "colab_type": "text",
    "id": "zURS5rANGpQM"
   },
   "source": [
    "GLM с гамма-распределением используется для моделирования положительной непрерывной зависимой переменной, когда ее условная дисперсия увеличивается вместе со средним значением, но коэффициент вариации зависимой переменной предполагается постоянным.\n",
    "\n",
    "Обычно GLM с гамма-распределением используются с логарифмической или обратной функциями связи:\n",
    "$$g(\\eta) = \\ln(\\eta);\\hspace{20pt}g(\\eta) = \\frac{1}{\\eta}.$$\n",
    "\n",
    "Модель оценивается методом максимального правдоподобия, функция логарифма правдоподобия (для обратной функции связи) с учетом штрафа регуляризации эластичной сети имеет вид:\n",
    "$$\\max_{\\beta,\\beta_0} - \\frac{1}{N} \\sum_{i=1}^{N} \\frac{y_i}{x{^T_i}\\beta + \\beta_0} + \\text{ln} \\big( x{^T_i}\\beta + \\beta_0 \\big ) - \\lambda \\Big( \\alpha||\\beta||_1 + \\dfrac {1} {2}(1 - \\alpha)||\\beta||^2_2 \\Big),$$\n",
    "\n",
    "где \n",
    "* $\\lambda$ – параметр, отвечающий за силу регуляризации. $\\lambda\\in\\mathbb{R}^{+}$;\n",
    "* $\\alpha$ – параметр, отвечающий за распределение штрафов регуляризации между нормой 1 ($\\ell_1$) и нормой 2 ($\\ell_2$). $\\alpha\\in[0,1]$;\n",
    "* $||\\beta||{_1}$ – штраф регуляризации $\\ell_1$ (LASSO). $||\\beta||{_1} = \\sum{^p_{k=1}} |\\beta{_k}|$;\n",
    "* $||\\beta||{_2}$ – штраф регуляризации $\\ell_2$ (Ridge). $||\\beta||{_2} = \\sum{^p_{k=1}} \\beta{^2_k}$.\n",
    "\n",
    "Соответствующая метрика _Deviance_ имеет вид:\n",
    "$$D = 2 \\sum_{i=1}^{N} - \\text{ln} \\bigg (\\dfrac {y_i} {\\hat {y}_i} \\bigg) + \\dfrac {(y_i - \\hat{y}_i)} {\\hat {y}_i}.$$\n",
    "\n",
    "\n"
   ]
  },
  {
   "cell_type": "markdown",
   "metadata": {
    "colab_type": "text",
    "id": "g556ItOFqrlt"
   },
   "source": [
    "##### Вывод функции правдоподобия для GLM с Гамма-распределением и логарифмической функцией связи (без регуляризации)"
   ]
  },
  {
   "cell_type": "markdown",
   "metadata": {
    "colab_type": "text",
    "id": "sMwfkpunUSh3"
   },
   "source": [
    "**NB:** Ниже $\\alpha$ и $\\lambda$ не имеют отношения к вышеупомянутым одноименным параметрам регуляризации."
   ]
  },
  {
   "cell_type": "markdown",
   "metadata": {
    "colab_type": "text",
    "id": "U4_fS_r2qsSV"
   },
   "source": [
    "Напомним, что функция плотности вероятности для Гамма-распределения имеет вид:\n",
    "$$f(x;\\alpha,\\lambda) = \n",
    "\\begin{cases}\n",
    "\\frac{\\alpha^\\lambda}{\\Gamma(\\lambda)}x^{\\lambda-1}e^{-\\alpha x},&x \\ge 0\\\\\n",
    "0,& x <0\n",
    "\\end{cases},\\hspace{20pt} \\Gamma(x) = \\int_0^{\\infty}x^{\\lambda-1}e^{-x}dx.\n",
    "$$\n",
    "Также, для Гамма-распределения справедливо, что:\n",
    "$$ \\mathbb{E}[x] = \\frac{\\lambda}{\\alpha},\\hspace{15pt} Var(x) = \\frac{\\lambda}{\\alpha^2}.$$"
   ]
  },
  {
   "cell_type": "markdown",
   "metadata": {
    "colab_type": "text",
    "id": "ANqE1W2i9Oo0"
   },
   "source": [
    "Для оценивания GLM удобно параметризовать данное распределение иначе:\n",
    "$$ \\mathbb{E}[x] = \\frac{\\lambda}{\\alpha} = \\mu,\\hspace{15pt} Var(x) = \\frac{\\lambda}{\\alpha^2} = \\frac{\\mu^2}{\\lambda}.$$\n",
    "Тогда,\n",
    "$$f(x;\\mu,\\lambda) = \\frac{1}{\\Gamma(\\lambda)}\\alpha^\\lambda x^{\\lambda-1}e^{-\\alpha x} = \\frac{1}{\\Gamma(\\lambda)}\\left(\\frac{\\lambda}{\\mu}\\right)^\\lambda x^{\\lambda-1}e^{-\\left(\\frac{\\lambda}{\\mu}\\right)x} = \\frac{1}{x\\cdot\\Gamma(\\lambda)}\\left(\\frac{\\lambda x}{\\mu}\\right)^\\lambda e^{-\\frac{\\lambda x}{\\mu}},\\hspace{15pt} x\\ge 0.$$\n",
    "\n",
    "Также напомним, что для GLM с функцией связи $\\ln(x)$ предсказание (оценка математического ожидания) имеет вид $\\hat {y} = e^{x{^T}\\beta + {\\beta_{0}}}$.\n"
   ]
  },
  {
   "cell_type": "markdown",
   "metadata": {
    "colab_type": "text",
    "id": "XTIQAUDg9NXg"
   },
   "source": [
    "Тогда, для оценивания коэффициентов нашей модели необходимо максимизировать правдоподобие (совместную условную вероятность при имеющихся данных), что данные имеют Гамма-распределение, в предположении известного параметра $\\lambda$:\n",
    "$$p(y_1,\\dots,y_n|x_1,\\dots,x_n;\\beta_0,\\beta) = \\prod_{i=1}^{N}\\frac{1}{y_i\\cdot\\Gamma(\\lambda)}\\left(\\frac{\\lambda y_i}{e^{x_i{^T}\\beta + {\\beta_{0}}}}\\right)^\\lambda e^{-\\frac{\\lambda y_i}{e^{x_i{^T}\\beta + {\\beta_{0}}}}} = L(\\beta_0,\\beta|y_1,\\dots,y_n,x_1,\\dots,x_n).$$\n",
    "Для упрощения задачи оптимизации перейдем к логарифму правдоподобия:\n",
    "\\begin{align}\n",
    "\\ell(\\beta_0,\\beta|y_1,\\dots,y_n,x_1,\\dots,x_n) &= \\sum_{i=1}^{N}\\left(-\\ln(\\Gamma(\\lambda))-\\ln(y_i)+ \\lambda\\ln\\left(\\frac{\\lambda y_i}{e^{x_i{^T}\\beta + {\\beta_{0}}}}\\right) -\\frac{\\lambda y_i}{e^{x_i{^T}\\beta + {\\beta_{0}}}}\\right)\\\\ &= \\sum_{i=1}^{N}\\left(-\\ln(\\Gamma(\\lambda))-\\ln(y_i) + \\lambda\\ln\\left(\\lambda\\right)+\\lambda\\ln\\left(y_i\\right)-\\lambda\\left({x_i{^T}\\beta + {\\beta_{0}}}\\right) -\\frac{\\lambda y_i}{e^{x_i{^T}\\beta + {\\beta_{0}}}}\\right)\\\\ &= \\sum_{i=1}^{N}\\left((\\lambda-1)\\ln\\left(y_i\\right)-\\ln(\\Gamma(\\lambda)) + \\lambda\\ln\\left(\\lambda\\right)-\\lambda\\left({x_i{^T}\\beta + {\\beta_{0}}}\\right) -\\frac{\\lambda y_i}{e^{x_i{^T}\\beta + {\\beta_{0}}}}\\right).\n",
    "\\end{align}\n",
    "Тогда обозначим слагаемые, не зависящие от параметров модели ($\\beta_0$, $\\beta$), как некоторую константу $C$, получаем:\n",
    "$$\\ell(\\beta_0,\\beta|y_1,\\dots,y_n,x_1,\\dots,x_n) = \\sum_{i=1}^{N}\\left(-\\lambda\\left(\\left({x_i{^T}\\beta + {\\beta_{0}}}\\right) +\\frac{y_i}{e^{x_i{^T}\\beta + {\\beta_{0}}}}\\right) + C(y_i, \\lambda)\\right),$$\n",
    "Таким образом, требуется максимизировать\n",
    "$$\\ell(\\beta_0,\\beta|y_1,\\dots,y_n,x_1,\\dots,x_n) = -\\sum_{i=1}^{N}\\left(\\left({x_i{^T}\\beta + {\\beta_{0}}}\\right) + \\frac{y_i}{e^{x_i{^T}\\beta + {\\beta_{0}}}}\\right),$$\n",
    "Далее численно решается задача оптимизации для определения параметров модели:\n",
    "$$\\frac{\\partial \\ell(\\beta_0,\\beta|y_1,\\dots,y_n,x_1,\\dots,x_n)}{\\partial \\beta_0} = 0,\\\\\\frac{\\partial \\ell(\\beta_0,\\beta|y_1,\\dots,y_n,x_1,\\dots,x_n)}{\\partial \\beta} = 0.$$\n",
    "Обычно минимизируется отрицательное правдоподобие, которое является выпуклой функцией."
   ]
  },
  {
   "cell_type": "markdown",
   "metadata": {
    "colab_type": "text",
    "id": "idUKi7_RqxHA"
   },
   "source": [
    "##### Вывод метрики Deviance для GLM с Гамма-распределением"
   ]
  },
  {
   "cell_type": "markdown",
   "metadata": {
    "colab_type": "text",
    "id": "FK1D3Pz3qwbL"
   },
   "source": [
    "Метрика Deviance представляет собой отношение правдоподобия между двумя моделями: рассматриваемой моделью и \"идеальной\" моделью, в которая бы идеально предсказывала бы зависимую переменную.\n",
    "$$Deviance = 2(\\ell_{ideal} - \\ell_{model})$$\n",
    "\n",
    "В качестве такой \"идеальной модели\" может использоваться сама зависимая переменная. Тогда, логарифм правдоподобия \"идеальной модели\" для GLM с распределением Пуассона имеет вид:\n",
    "$$\\ell_{ideal} = -\\sum_{i=1}^{N}\\left(1 + \\ln(y_i)\\right).$$\n",
    "\n",
    "Из приведенного выше вывода правдоподобия для рассматриваемой модели, мы можем записать, обозначив $\\hat{y}_i = e^{x{^T}\\beta + {\\beta_{0}}}$:\n",
    "$$\\ell_{model} = -\\sum_{i=1}^{N}\\left(\\frac{y_i}{\\hat{y}_i} + \\ln(\\hat{y}_i)\\right).$$\n",
    "\n",
    "Тогда получаем,\n",
    "$$Deviance = 2\\sum_{i=1}^{N}\\left(- 1 - \\ln(y_i) + \\frac{y_i}{\\hat{y}_i} + \\ln(\\hat{y}_i)\\right) = 2\\sum_{i=1}^{N}\\left(-\\ln\\left(\\frac{y_i}{\\hat{y}_i}\\right)+\\frac{y_i-\\hat{y}_i}{\\hat{y}_i} \\right).$$"
   ]
  },
  {
   "cell_type": "markdown",
   "metadata": {
    "colab_type": "text",
    "id": "hUUC9Vmhf5aB"
   },
   "source": [
    "#### Дополнительная литература по GLM"
   ]
  },
  {
   "cell_type": "markdown",
   "metadata": {
    "colab_type": "text",
    "id": "gRAxYOQcf-uD"
   },
   "source": [
    "*   [P. McCullagh, John A. Nelder _\"Generalized Linear Models\"_](http://www.utstat.toronto.edu/~brunner/oldclass/2201s11/readings/glmbook.pdf)\n",
    "*   [D. Anderson, et al. _\"A practitioner’s guide to generalized linear models\"_](https://www.casact.org/pubs/dpp/dpp04/04dpp1.pdf)\n",
    "*   [E. Ohlsson, B. Johansson _\"Non-life insurance pricing with generalized linear models\"_](https://www.springer.com/gp/book/9783642107900)\n",
    "*   [P. De Jong, G. Heller _\"Generalized linear models for insurance data\"_](https://feb.kuleuven.be/public/u0017833/boek.pdf)\n",
    "\n",
    "\n"
   ]
  },
  {
   "cell_type": "markdown",
   "metadata": {
    "colab_type": "text",
    "id": "fKCG1lssMNA7"
   },
   "source": [
    "### Установка H2O на Google Colaboratory и инициализация"
   ]
  },
  {
   "cell_type": "code",
   "execution_count": 25,
   "metadata": {
    "colab": {
     "base_uri": "https://localhost:8080/",
     "height": 153
    },
    "colab_type": "code",
    "executionInfo": {
     "elapsed": 3918,
     "status": "ok",
     "timestamp": 1576778654970,
     "user": {
      "displayName": "Aleksandr Shchegolev",
      "photoUrl": "",
      "userId": "00652555022685556919"
     },
     "user_tz": -180
    },
    "id": "XgOdDSP-gXCd",
    "outputId": "afcd613b-c192-4ac9-9a63-141e4943e01f"
   },
   "outputs": [],
   "source": [
    "# !apt-get install default-jre"
   ]
  },
  {
   "cell_type": "code",
   "execution_count": 26,
   "metadata": {
    "colab": {
     "base_uri": "https://localhost:8080/",
     "height": 68
    },
    "colab_type": "code",
    "executionInfo": {
     "elapsed": 3093,
     "status": "ok",
     "timestamp": 1576778669353,
     "user": {
      "displayName": "Aleksandr Shchegolev",
      "photoUrl": "",
      "userId": "00652555022685556919"
     },
     "user_tz": -180
    },
    "id": "pvu-Rs1GMl0a",
    "outputId": "4af77bce-f927-4f54-891a-b4967038c0e6"
   },
   "outputs": [],
   "source": [
    "# !java -version"
   ]
  },
  {
   "cell_type": "code",
   "execution_count": 27,
   "metadata": {
    "colab": {
     "base_uri": "https://localhost:8080/",
     "height": 170
    },
    "colab_type": "code",
    "executionInfo": {
     "elapsed": 4468,
     "status": "ok",
     "timestamp": 1576778678932,
     "user": {
      "displayName": "Aleksandr Shchegolev",
      "photoUrl": "",
      "userId": "00652555022685556919"
     },
     "user_tz": -180
    },
    "id": "oTpLqa_sgJH4",
    "outputId": "5bca570f-3943-4be0-fa4f-68db1a527f60"
   },
   "outputs": [],
   "source": [
    "# !pip install h2o"
   ]
  },
  {
   "cell_type": "code",
   "execution_count": 28,
   "metadata": {
    "colab": {
     "base_uri": "https://localhost:8080/",
     "height": 406
    },
    "colab_type": "code",
    "executionInfo": {
     "elapsed": 749,
     "status": "ok",
     "timestamp": 1576778685952,
     "user": {
      "displayName": "Aleksandr Shchegolev",
      "photoUrl": "",
      "userId": "00652555022685556919"
     },
     "user_tz": -180
    },
    "id": "KSdsMa-agl-6",
    "outputId": "1150fe77-2cf4-4f75-bf43-a63e246fa272"
   },
   "outputs": [
    {
     "name": "stdout",
     "output_type": "stream",
     "text": [
      "Checking whether there is an H2O instance running at http://localhost:54321 ..... not found.\n",
      "Attempting to start a local H2O server...\n",
      "; Java HotSpot(TM) 64-Bit Server VM (build 12.0.1+12, mixed mode, sharing)\n",
      "  Starting server from C:\\Users\\TOSHIBA\\Anaconda3\\lib\\site-packages\\h2o\\backend\\bin\\h2o.jar\n",
      "  Ice root: C:\\Users\\TOSHIBA\\AppData\\Local\\Temp\\tmp11a9t11i\n",
      "  JVM stdout: C:\\Users\\TOSHIBA\\AppData\\Local\\Temp\\tmp11a9t11i\\h2o_TOSHIBA_started_from_python.out\n",
      "  JVM stderr: C:\\Users\\TOSHIBA\\AppData\\Local\\Temp\\tmp11a9t11i\\h2o_TOSHIBA_started_from_python.err\n",
      "  Server is running at http://127.0.0.1:54321\n",
      "Connecting to H2O server at http://127.0.0.1:54321 ... successful.\n"
     ]
    },
    {
     "data": {
      "text/html": [
       "<div style=\"overflow:auto\"><table style=\"width:50%\"><tr><td>H2O cluster uptime:</td>\n",
       "<td>07 secs</td></tr>\n",
       "<tr><td>H2O cluster timezone:</td>\n",
       "<td>+03:00</td></tr>\n",
       "<tr><td>H2O data parsing timezone:</td>\n",
       "<td>UTC</td></tr>\n",
       "<tr><td>H2O cluster version:</td>\n",
       "<td>3.28.0.1</td></tr>\n",
       "<tr><td>H2O cluster version age:</td>\n",
       "<td>6 days </td></tr>\n",
       "<tr><td>H2O cluster name:</td>\n",
       "<td>H2O_from_python_TOSHIBA_ls3kba</td></tr>\n",
       "<tr><td>H2O cluster total nodes:</td>\n",
       "<td>1</td></tr>\n",
       "<tr><td>H2O cluster free memory:</td>\n",
       "<td>1000 Mb</td></tr>\n",
       "<tr><td>H2O cluster total cores:</td>\n",
       "<td>4</td></tr>\n",
       "<tr><td>H2O cluster allowed cores:</td>\n",
       "<td>4</td></tr>\n",
       "<tr><td>H2O cluster status:</td>\n",
       "<td>accepting new members, healthy</td></tr>\n",
       "<tr><td>H2O connection url:</td>\n",
       "<td>http://127.0.0.1:54321</td></tr>\n",
       "<tr><td>H2O connection proxy:</td>\n",
       "<td>{'http': None, 'https': None}</td></tr>\n",
       "<tr><td>H2O internal security:</td>\n",
       "<td>False</td></tr>\n",
       "<tr><td>H2O API Extensions:</td>\n",
       "<td>Amazon S3, Algos, AutoML, Core V3, TargetEncoder, Core V4</td></tr>\n",
       "<tr><td>Python version:</td>\n",
       "<td>3.7.3 final</td></tr></table></div>"
      ],
      "text/plain": [
       "--------------------------  ---------------------------------------------------------\n",
       "H2O cluster uptime:         07 secs\n",
       "H2O cluster timezone:       +03:00\n",
       "H2O data parsing timezone:  UTC\n",
       "H2O cluster version:        3.28.0.1\n",
       "H2O cluster version age:    6 days\n",
       "H2O cluster name:           H2O_from_python_TOSHIBA_ls3kba\n",
       "H2O cluster total nodes:    1\n",
       "H2O cluster free memory:    1000 Mb\n",
       "H2O cluster total cores:    4\n",
       "H2O cluster allowed cores:  4\n",
       "H2O cluster status:         accepting new members, healthy\n",
       "H2O connection url:         http://127.0.0.1:54321\n",
       "H2O connection proxy:       {'http': None, 'https': None}\n",
       "H2O internal security:      False\n",
       "H2O API Extensions:         Amazon S3, Algos, AutoML, Core V3, TargetEncoder, Core V4\n",
       "Python version:             3.7.3 final\n",
       "--------------------------  ---------------------------------------------------------"
      ]
     },
     "metadata": {},
     "output_type": "display_data"
    }
   ],
   "source": [
    "import h2o\n",
    "from h2o.estimators.glm import H2OGeneralizedLinearEstimator\n",
    "h2o.init()"
   ]
  },
  {
   "cell_type": "markdown",
   "metadata": {
    "colab_type": "text",
    "id": "YttnrY4wMqu3"
   },
   "source": [
    "### Построение GLM для частоты страховых случаев"
   ]
  },
  {
   "cell_type": "code",
   "execution_count": 29,
   "metadata": {
    "colab": {
     "base_uri": "https://localhost:8080/",
     "height": 68
    },
    "colab_type": "code",
    "executionInfo": {
     "elapsed": 3883,
     "status": "ok",
     "timestamp": 1576778788534,
     "user": {
      "displayName": "Aleksandr Shchegolev",
      "photoUrl": "",
      "userId": "00652555022685556919"
     },
     "user_tz": -180
    },
    "id": "r-BqsBNx_zIH",
    "outputId": "d99a0294-d7c2-4f25-c665-a9c9d1d03477"
   },
   "outputs": [
    {
     "name": "stdout",
     "output_type": "stream",
     "text": [
      "Parse progress: |█████████████████████████████████████████████████████████| 100%\n",
      "Parse progress: |█████████████████████████████████████████████████████████| 100%\n",
      "Parse progress: |█████████████████████████████████████████████████████████| 100%\n"
     ]
    }
   ],
   "source": [
    "# Преобразование в H2O-Frame\n",
    "\n",
    "h2o_train_c = h2o.H2OFrame(pd.concat([x_train_c, y_train_c], axis=1))\n",
    "h2o_valid_c = h2o.H2OFrame(pd.concat([x_valid_c, y_valid_c], axis=1))\n",
    "h2o_test_c = h2o.H2OFrame(pd.concat([x_test_c, y_test_c], axis=1))"
   ]
  },
  {
   "cell_type": "code",
   "execution_count": 30,
   "metadata": {
    "colab": {
     "base_uri": "https://localhost:8080/",
     "height": 54
    },
    "colab_type": "code",
    "executionInfo": {
     "elapsed": 1218,
     "status": "ok",
     "timestamp": 1576778800408,
     "user": {
      "displayName": "Aleksandr Shchegolev",
      "photoUrl": "",
      "userId": "00652555022685556919"
     },
     "user_tz": -180
    },
    "id": "eCiO6At9BI98",
    "outputId": "93e58a62-445d-4fc8-bdd9-ada21445d5ba"
   },
   "outputs": [
    {
     "name": "stdout",
     "output_type": "stream",
     "text": [
      "['Exposure', 'LicAge', 'Gender', 'MariStat', 'DrivAge', 'HasKmLimit', 'BonusMalus', 'OutUseNb', 'RiskArea', 'VehUsg_Private', 'VehUsg_Private+trip to office', 'VehUsg_Professional', 'VehUsg_Professional run', 'CSP1', 'CSP2', 'CSP3', 'CSP4', 'CSP5', 'CSP6', 'CSP7', 'DrivAgeSq', 'ClaimsCount']\n"
     ]
    }
   ],
   "source": [
    "print(h2o_train_c.names)"
   ]
  },
  {
   "cell_type": "code",
   "execution_count": 31,
   "metadata": {
    "colab": {
     "base_uri": "https://localhost:8080/",
     "height": 34
    },
    "colab_type": "code",
    "executionInfo": {
     "elapsed": 5305,
     "status": "ok",
     "timestamp": 1576778935837,
     "user": {
      "displayName": "Aleksandr Shchegolev",
      "photoUrl": "",
      "userId": "00652555022685556919"
     },
     "user_tz": -180
    },
    "id": "GarP9wfMgmiP",
    "outputId": "64cbce6a-0c8a-4835-9aa9-5fbe533d6c6c"
   },
   "outputs": [
    {
     "name": "stdout",
     "output_type": "stream",
     "text": [
      "glm Model Build progress: |███████████████████████████████████████████████| 100%\n"
     ]
    }
   ],
   "source": [
    "# Инициализируем и обучим GLM модель c кросс-валидацией\n",
    "\n",
    "glm_poisson = H2OGeneralizedLinearEstimator(family = \"poisson\", link = \"Log\", nfolds=5)\n",
    "glm_poisson.train(y=\"ClaimsCount\", x = h2o_train_c.names[1:-1], training_frame = h2o_train_c, validation_frame = h2o_valid_c, weights_column = \"Exposure\")"
   ]
  },
  {
   "cell_type": "code",
   "execution_count": 32,
   "metadata": {
    "colab": {
     "base_uri": "https://localhost:8080/",
     "height": 185
    },
    "colab_type": "code",
    "executionInfo": {
     "elapsed": 1072,
     "status": "ok",
     "timestamp": 1576778941269,
     "user": {
      "displayName": "Aleksandr Shchegolev",
      "photoUrl": "",
      "userId": "00652555022685556919"
     },
     "user_tz": -180
    },
    "id": "10JsIABsBwxq",
    "outputId": "5ca9312d-8fa7-412b-9659-46b74b7d9832"
   },
   "outputs": [
    {
     "name": "stdout",
     "output_type": "stream",
     "text": [
      "\n",
      "GLM Model: summary\n"
     ]
    },
    {
     "data": {
      "text/html": [
       "<div>\n",
       "<style scoped>\n",
       "    .dataframe tbody tr th:only-of-type {\n",
       "        vertical-align: middle;\n",
       "    }\n",
       "\n",
       "    .dataframe tbody tr th {\n",
       "        vertical-align: top;\n",
       "    }\n",
       "\n",
       "    .dataframe thead th {\n",
       "        text-align: right;\n",
       "    }\n",
       "</style>\n",
       "<table border=\"1\" class=\"dataframe\">\n",
       "  <thead>\n",
       "    <tr style=\"text-align: right;\">\n",
       "      <th></th>\n",
       "      <th></th>\n",
       "      <th>family</th>\n",
       "      <th>link</th>\n",
       "      <th>regularization</th>\n",
       "      <th>number_of_predictors_total</th>\n",
       "      <th>number_of_active_predictors</th>\n",
       "      <th>number_of_iterations</th>\n",
       "      <th>training_frame</th>\n",
       "    </tr>\n",
       "  </thead>\n",
       "  <tbody>\n",
       "    <tr>\n",
       "      <th>0</th>\n",
       "      <td></td>\n",
       "      <td>poisson</td>\n",
       "      <td>log</td>\n",
       "      <td>Elastic Net (alpha = 0.5, lambda = 1.308E-4 )</td>\n",
       "      <td>20</td>\n",
       "      <td>19</td>\n",
       "      <td>3</td>\n",
       "      <td>Key_Frame__upload_8e40251a520d85e5f2c5d0334ca84f8c.hex</td>\n",
       "    </tr>\n",
       "  </tbody>\n",
       "</table>\n",
       "</div>"
      ],
      "text/plain": [
       "      family link                                 regularization  \\\n",
       "0    poisson  log  Elastic Net (alpha = 0.5, lambda = 1.308E-4 )   \n",
       "\n",
       "   number_of_predictors_total number_of_active_predictors  \\\n",
       "0                          20                          19   \n",
       "\n",
       "   number_of_iterations  \\\n",
       "0                     3   \n",
       "\n",
       "                                           training_frame  \n",
       "0  Key_Frame__upload_8e40251a520d85e5f2c5d0334ca84f8c.hex  "
      ]
     },
     "metadata": {},
     "output_type": "display_data"
    },
    {
     "data": {
      "text/plain": []
     },
     "execution_count": 32,
     "metadata": {},
     "output_type": "execute_result"
    }
   ],
   "source": [
    "# Параметры модели: распределение, функция связи, гиперпараметры регуляризации, количество использованных объясняющих переменных\n",
    "\n",
    "glm_poisson.summary()"
   ]
  },
  {
   "cell_type": "code",
   "execution_count": 33,
   "metadata": {
    "colab": {
     "base_uri": "https://localhost:8080/",
     "height": 297
    },
    "colab_type": "code",
    "executionInfo": {
     "elapsed": 793,
     "status": "ok",
     "timestamp": 1576778943920,
     "user": {
      "displayName": "Aleksandr Shchegolev",
      "photoUrl": "",
      "userId": "00652555022685556919"
     },
     "user_tz": -180
    },
    "id": "tKL0w-LECQ2G",
    "outputId": "e6c4523c-f6d1-47ec-e78f-633015e22f65"
   },
   "outputs": [
    {
     "data": {
      "text/html": [
       "<div>\n",
       "<style scoped>\n",
       "    .dataframe tbody tr th:only-of-type {\n",
       "        vertical-align: middle;\n",
       "    }\n",
       "\n",
       "    .dataframe tbody tr th {\n",
       "        vertical-align: top;\n",
       "    }\n",
       "\n",
       "    .dataframe thead th {\n",
       "        text-align: right;\n",
       "    }\n",
       "</style>\n",
       "<table border=\"1\" class=\"dataframe\">\n",
       "  <thead>\n",
       "    <tr style=\"text-align: right;\">\n",
       "      <th></th>\n",
       "      <th></th>\n",
       "      <th>mean</th>\n",
       "      <th>sd</th>\n",
       "      <th>cv_1_valid</th>\n",
       "      <th>cv_2_valid</th>\n",
       "      <th>cv_3_valid</th>\n",
       "      <th>cv_4_valid</th>\n",
       "      <th>cv_5_valid</th>\n",
       "    </tr>\n",
       "  </thead>\n",
       "  <tbody>\n",
       "    <tr>\n",
       "      <th>0</th>\n",
       "      <td>mae</td>\n",
       "      <td>0.5026557</td>\n",
       "      <td>0.0025469651</td>\n",
       "      <td>0.50318086</td>\n",
       "      <td>0.49816754</td>\n",
       "      <td>0.5037342</td>\n",
       "      <td>0.503777</td>\n",
       "      <td>0.50441873</td>\n",
       "    </tr>\n",
       "    <tr>\n",
       "      <th>1</th>\n",
       "      <td>mean_residual_deviance</td>\n",
       "      <td>1.2425531</td>\n",
       "      <td>0.015562582</td>\n",
       "      <td>1.2460407</td>\n",
       "      <td>1.2152565</td>\n",
       "      <td>1.2479541</td>\n",
       "      <td>1.2492174</td>\n",
       "      <td>1.2542971</td>\n",
       "    </tr>\n",
       "    <tr>\n",
       "      <th>2</th>\n",
       "      <td>mse</td>\n",
       "      <td>0.7540859</td>\n",
       "      <td>0.019869654</td>\n",
       "      <td>0.74926496</td>\n",
       "      <td>0.72166336</td>\n",
       "      <td>0.767731</td>\n",
       "      <td>0.7614064</td>\n",
       "      <td>0.77036387</td>\n",
       "    </tr>\n",
       "    <tr>\n",
       "      <th>3</th>\n",
       "      <td>null_deviance</td>\n",
       "      <td>9371.563</td>\n",
       "      <td>102.61999</td>\n",
       "      <td>9459.307</td>\n",
       "      <td>9207.098</td>\n",
       "      <td>9349.936</td>\n",
       "      <td>9388.558</td>\n",
       "      <td>9452.922</td>\n",
       "    </tr>\n",
       "    <tr>\n",
       "      <th>4</th>\n",
       "      <td>r2</td>\n",
       "      <td>0.0125999525</td>\n",
       "      <td>0.0012280245</td>\n",
       "      <td>0.011119368</td>\n",
       "      <td>0.011963396</td>\n",
       "      <td>0.014427061</td>\n",
       "      <td>0.012909975</td>\n",
       "      <td>0.012579962</td>\n",
       "    </tr>\n",
       "    <tr>\n",
       "      <th>5</th>\n",
       "      <td>residual_deviance</td>\n",
       "      <td>9133.998</td>\n",
       "      <td>105.27886</td>\n",
       "      <td>9242.046</td>\n",
       "      <td>8992.435</td>\n",
       "      <td>9064.389</td>\n",
       "      <td>9150.51</td>\n",
       "      <td>9220.611</td>\n",
       "    </tr>\n",
       "    <tr>\n",
       "      <th>6</th>\n",
       "      <td>rmse</td>\n",
       "      <td>0.8683202</td>\n",
       "      <td>0.011507436</td>\n",
       "      <td>0.86560094</td>\n",
       "      <td>0.8495077</td>\n",
       "      <td>0.8762026</td>\n",
       "      <td>0.8725861</td>\n",
       "      <td>0.8777037</td>\n",
       "    </tr>\n",
       "    <tr>\n",
       "      <th>7</th>\n",
       "      <td>rmsle</td>\n",
       "      <td>0.4100735</td>\n",
       "      <td>0.0020037</td>\n",
       "      <td>0.41094837</td>\n",
       "      <td>0.40650553</td>\n",
       "      <td>0.41067347</td>\n",
       "      <td>0.4110395</td>\n",
       "      <td>0.41120052</td>\n",
       "    </tr>\n",
       "  </tbody>\n",
       "</table>\n",
       "</div>"
      ],
      "text/plain": [
       "                                   mean            sd   cv_1_valid  \\\n",
       "0                     mae     0.5026557  0.0025469651   0.50318086   \n",
       "1  mean_residual_deviance     1.2425531   0.015562582    1.2460407   \n",
       "2                     mse     0.7540859   0.019869654   0.74926496   \n",
       "3           null_deviance      9371.563     102.61999     9459.307   \n",
       "4                      r2  0.0125999525  0.0012280245  0.011119368   \n",
       "5       residual_deviance      9133.998     105.27886     9242.046   \n",
       "6                    rmse     0.8683202   0.011507436   0.86560094   \n",
       "7                   rmsle     0.4100735     0.0020037   0.41094837   \n",
       "\n",
       "    cv_2_valid   cv_3_valid   cv_4_valid   cv_5_valid  \n",
       "0   0.49816754    0.5037342     0.503777   0.50441873  \n",
       "1    1.2152565    1.2479541    1.2492174    1.2542971  \n",
       "2   0.72166336     0.767731    0.7614064   0.77036387  \n",
       "3     9207.098     9349.936     9388.558     9452.922  \n",
       "4  0.011963396  0.014427061  0.012909975  0.012579962  \n",
       "5     8992.435     9064.389      9150.51     9220.611  \n",
       "6    0.8495077    0.8762026    0.8725861    0.8777037  \n",
       "7   0.40650553   0.41067347    0.4110395   0.41120052  "
      ]
     },
     "execution_count": 33,
     "metadata": {},
     "output_type": "execute_result"
    }
   ],
   "source": [
    "# Метрики качества модели - по всем данным и на кросс-валидации\n",
    "\n",
    "glm_poisson.cross_validation_metrics_summary().as_data_frame()"
   ]
  },
  {
   "cell_type": "code",
   "execution_count": 34,
   "metadata": {
    "colab": {
     "base_uri": "https://localhost:8080/"
    },
    "colab_type": "code",
    "executionInfo": {
     "elapsed": 78348,
     "status": "ok",
     "timestamp": 1576771251089,
     "user": {
      "displayName": "Aleksandr Shchegolev",
      "photoUrl": "",
      "userId": "00652555022685556919"
     },
     "user_tz": -180
    },
    "id": "vImto5eTCmzi",
    "outputId": "5d61422f-405d-4d89-8f33-9ad9eefa17da"
   },
   "outputs": [
    {
     "data": {
      "text/html": [
       "<div>\n",
       "<style scoped>\n",
       "    .dataframe tbody tr th:only-of-type {\n",
       "        vertical-align: middle;\n",
       "    }\n",
       "\n",
       "    .dataframe tbody tr th {\n",
       "        vertical-align: top;\n",
       "    }\n",
       "\n",
       "    .dataframe thead th {\n",
       "        text-align: right;\n",
       "    }\n",
       "</style>\n",
       "<table border=\"1\" class=\"dataframe\">\n",
       "  <thead>\n",
       "    <tr style=\"text-align: right;\">\n",
       "      <th></th>\n",
       "      <th>names</th>\n",
       "      <th>coefficients</th>\n",
       "      <th>standardized_coefficients</th>\n",
       "    </tr>\n",
       "  </thead>\n",
       "  <tbody>\n",
       "    <tr>\n",
       "      <th>0</th>\n",
       "      <td>Intercept</td>\n",
       "      <td>-2.232571</td>\n",
       "      <td>-1.289184</td>\n",
       "    </tr>\n",
       "    <tr>\n",
       "      <th>1</th>\n",
       "      <td>LicAge</td>\n",
       "      <td>0.000046</td>\n",
       "      <td>0.007411</td>\n",
       "    </tr>\n",
       "    <tr>\n",
       "      <th>2</th>\n",
       "      <td>Gender</td>\n",
       "      <td>-0.020411</td>\n",
       "      <td>-0.009888</td>\n",
       "    </tr>\n",
       "    <tr>\n",
       "      <th>3</th>\n",
       "      <td>MariStat</td>\n",
       "      <td>-0.127848</td>\n",
       "      <td>-0.045723</td>\n",
       "    </tr>\n",
       "    <tr>\n",
       "      <th>4</th>\n",
       "      <td>DrivAge</td>\n",
       "      <td>0.006846</td>\n",
       "      <td>0.102613</td>\n",
       "    </tr>\n",
       "    <tr>\n",
       "      <th>5</th>\n",
       "      <td>HasKmLimit</td>\n",
       "      <td>-0.451913</td>\n",
       "      <td>-0.139946</td>\n",
       "    </tr>\n",
       "    <tr>\n",
       "      <th>6</th>\n",
       "      <td>BonusMalus</td>\n",
       "      <td>0.012746</td>\n",
       "      <td>0.192535</td>\n",
       "    </tr>\n",
       "    <tr>\n",
       "      <th>7</th>\n",
       "      <td>OutUseNb</td>\n",
       "      <td>0.095582</td>\n",
       "      <td>0.064078</td>\n",
       "    </tr>\n",
       "    <tr>\n",
       "      <th>8</th>\n",
       "      <td>RiskArea</td>\n",
       "      <td>0.013265</td>\n",
       "      <td>0.029377</td>\n",
       "    </tr>\n",
       "    <tr>\n",
       "      <th>9</th>\n",
       "      <td>VehUsg_Private</td>\n",
       "      <td>-0.232444</td>\n",
       "      <td>-0.110219</td>\n",
       "    </tr>\n",
       "    <tr>\n",
       "      <th>10</th>\n",
       "      <td>VehUsg_Private+trip to office</td>\n",
       "      <td>0.000000</td>\n",
       "      <td>0.000000</td>\n",
       "    </tr>\n",
       "    <tr>\n",
       "      <th>11</th>\n",
       "      <td>VehUsg_Professional</td>\n",
       "      <td>0.329256</td>\n",
       "      <td>0.110543</td>\n",
       "    </tr>\n",
       "    <tr>\n",
       "      <th>12</th>\n",
       "      <td>VehUsg_Professional run</td>\n",
       "      <td>0.438860</td>\n",
       "      <td>0.060281</td>\n",
       "    </tr>\n",
       "    <tr>\n",
       "      <th>13</th>\n",
       "      <td>CSP1</td>\n",
       "      <td>-0.171310</td>\n",
       "      <td>-0.026524</td>\n",
       "    </tr>\n",
       "    <tr>\n",
       "      <th>14</th>\n",
       "      <td>CSP2</td>\n",
       "      <td>-0.355247</td>\n",
       "      <td>-0.059985</td>\n",
       "    </tr>\n",
       "    <tr>\n",
       "      <th>15</th>\n",
       "      <td>CSP3</td>\n",
       "      <td>0.348971</td>\n",
       "      <td>0.035770</td>\n",
       "    </tr>\n",
       "    <tr>\n",
       "      <th>16</th>\n",
       "      <td>CSP4</td>\n",
       "      <td>0.053866</td>\n",
       "      <td>0.013629</td>\n",
       "    </tr>\n",
       "    <tr>\n",
       "      <th>17</th>\n",
       "      <td>CSP5</td>\n",
       "      <td>-0.011842</td>\n",
       "      <td>-0.005672</td>\n",
       "    </tr>\n",
       "    <tr>\n",
       "      <th>18</th>\n",
       "      <td>CSP6</td>\n",
       "      <td>0.088620</td>\n",
       "      <td>0.036884</td>\n",
       "    </tr>\n",
       "    <tr>\n",
       "      <th>19</th>\n",
       "      <td>CSP7</td>\n",
       "      <td>-0.872463</td>\n",
       "      <td>-0.010643</td>\n",
       "    </tr>\n",
       "    <tr>\n",
       "      <th>20</th>\n",
       "      <td>DrivAgeSq</td>\n",
       "      <td>-0.000071</td>\n",
       "      <td>-0.109886</td>\n",
       "    </tr>\n",
       "  </tbody>\n",
       "</table>\n",
       "</div>"
      ],
      "text/plain": [
       "                            names  coefficients  standardized_coefficients\n",
       "0                       Intercept     -2.232571                  -1.289184\n",
       "1                          LicAge      0.000046                   0.007411\n",
       "2                          Gender     -0.020411                  -0.009888\n",
       "3                        MariStat     -0.127848                  -0.045723\n",
       "4                         DrivAge      0.006846                   0.102613\n",
       "5                      HasKmLimit     -0.451913                  -0.139946\n",
       "6                      BonusMalus      0.012746                   0.192535\n",
       "7                        OutUseNb      0.095582                   0.064078\n",
       "8                        RiskArea      0.013265                   0.029377\n",
       "9                  VehUsg_Private     -0.232444                  -0.110219\n",
       "10  VehUsg_Private+trip to office      0.000000                   0.000000\n",
       "11            VehUsg_Professional      0.329256                   0.110543\n",
       "12        VehUsg_Professional run      0.438860                   0.060281\n",
       "13                           CSP1     -0.171310                  -0.026524\n",
       "14                           CSP2     -0.355247                  -0.059985\n",
       "15                           CSP3      0.348971                   0.035770\n",
       "16                           CSP4      0.053866                   0.013629\n",
       "17                           CSP5     -0.011842                  -0.005672\n",
       "18                           CSP6      0.088620                   0.036884\n",
       "19                           CSP7     -0.872463                  -0.010643\n",
       "20                      DrivAgeSq     -0.000071                  -0.109886"
      ]
     },
     "execution_count": 34,
     "metadata": {},
     "output_type": "execute_result"
    }
   ],
   "source": [
    "# Таблица коэффициентов модели (в зависимости от модели могут выводиться также стандартная ошибка, z-score и p-value)\n",
    "\n",
    "glm_poisson._model_json['output']['coefficients_table'].as_data_frame()"
   ]
  },
  {
   "cell_type": "code",
   "execution_count": 35,
   "metadata": {
    "colab": {
     "base_uri": "https://localhost:8080/"
    },
    "colab_type": "code",
    "executionInfo": {
     "elapsed": 79096,
     "status": "ok",
     "timestamp": 1576771251848,
     "user": {
      "displayName": "Aleksandr Shchegolev",
      "photoUrl": "",
      "userId": "00652555022685556919"
     },
     "user_tz": -180
    },
    "id": "Z6CZpc6WAx-d",
    "outputId": "75f3cac0-80b2-4a0a-ec46-5b3c81e72b50"
   },
   "outputs": [
    {
     "data": {
      "text/html": [
       "<div>\n",
       "<style scoped>\n",
       "    .dataframe tbody tr th:only-of-type {\n",
       "        vertical-align: middle;\n",
       "    }\n",
       "\n",
       "    .dataframe tbody tr th {\n",
       "        vertical-align: top;\n",
       "    }\n",
       "\n",
       "    .dataframe thead th {\n",
       "        text-align: right;\n",
       "    }\n",
       "</style>\n",
       "<table border=\"1\" class=\"dataframe\">\n",
       "  <thead>\n",
       "    <tr style=\"text-align: right;\">\n",
       "      <th></th>\n",
       "      <th>overall</th>\n",
       "      <th>0</th>\n",
       "      <th>1</th>\n",
       "      <th>2</th>\n",
       "      <th>3</th>\n",
       "      <th>4</th>\n",
       "    </tr>\n",
       "  </thead>\n",
       "  <tbody>\n",
       "    <tr>\n",
       "      <th>BonusMalus</th>\n",
       "      <td>0.19253</td>\n",
       "      <td>0.19272</td>\n",
       "      <td>0.19500</td>\n",
       "      <td>0.19388</td>\n",
       "      <td>0.18716</td>\n",
       "      <td>0.19145</td>\n",
       "    </tr>\n",
       "    <tr>\n",
       "      <th>CSP1</th>\n",
       "      <td>-0.02652</td>\n",
       "      <td>-0.03299</td>\n",
       "      <td>-0.03104</td>\n",
       "      <td>-0.02481</td>\n",
       "      <td>-0.02339</td>\n",
       "      <td>-0.03052</td>\n",
       "    </tr>\n",
       "    <tr>\n",
       "      <th>CSP2</th>\n",
       "      <td>-0.05998</td>\n",
       "      <td>-0.05937</td>\n",
       "      <td>-0.06678</td>\n",
       "      <td>-0.05626</td>\n",
       "      <td>-0.06378</td>\n",
       "      <td>-0.06543</td>\n",
       "    </tr>\n",
       "    <tr>\n",
       "      <th>CSP3</th>\n",
       "      <td>0.03577</td>\n",
       "      <td>0.03130</td>\n",
       "      <td>0.03131</td>\n",
       "      <td>0.04234</td>\n",
       "      <td>0.03150</td>\n",
       "      <td>0.03561</td>\n",
       "    </tr>\n",
       "    <tr>\n",
       "      <th>CSP4</th>\n",
       "      <td>0.01363</td>\n",
       "      <td>0.00252</td>\n",
       "      <td>0.02246</td>\n",
       "      <td>0.01355</td>\n",
       "      <td>0.01224</td>\n",
       "      <td>0.00077</td>\n",
       "    </tr>\n",
       "    <tr>\n",
       "      <th>CSP5</th>\n",
       "      <td>-0.00567</td>\n",
       "      <td>-0.00535</td>\n",
       "      <td>-0.01494</td>\n",
       "      <td>0.00000</td>\n",
       "      <td>-0.02058</td>\n",
       "      <td>-0.01709</td>\n",
       "    </tr>\n",
       "    <tr>\n",
       "      <th>CSP6</th>\n",
       "      <td>0.03688</td>\n",
       "      <td>0.02172</td>\n",
       "      <td>0.03805</td>\n",
       "      <td>0.05037</td>\n",
       "      <td>0.01569</td>\n",
       "      <td>0.02576</td>\n",
       "    </tr>\n",
       "    <tr>\n",
       "      <th>CSP7</th>\n",
       "      <td>-0.01064</td>\n",
       "      <td>-0.00859</td>\n",
       "      <td>-0.03899</td>\n",
       "      <td>-0.00804</td>\n",
       "      <td>-0.01102</td>\n",
       "      <td>-0.00543</td>\n",
       "    </tr>\n",
       "    <tr>\n",
       "      <th>DrivAge</th>\n",
       "      <td>0.10261</td>\n",
       "      <td>0.12609</td>\n",
       "      <td>0.04942</td>\n",
       "      <td>0.16978</td>\n",
       "      <td>0.01630</td>\n",
       "      <td>0.06928</td>\n",
       "    </tr>\n",
       "    <tr>\n",
       "      <th>DrivAgeSq</th>\n",
       "      <td>-0.10989</td>\n",
       "      <td>-0.11166</td>\n",
       "      <td>-0.11085</td>\n",
       "      <td>-0.16456</td>\n",
       "      <td>-0.02017</td>\n",
       "      <td>-0.06821</td>\n",
       "    </tr>\n",
       "    <tr>\n",
       "      <th>Gender</th>\n",
       "      <td>-0.00989</td>\n",
       "      <td>-0.01105</td>\n",
       "      <td>-0.01387</td>\n",
       "      <td>-0.01066</td>\n",
       "      <td>0.00185</td>\n",
       "      <td>-0.01545</td>\n",
       "    </tr>\n",
       "    <tr>\n",
       "      <th>HasKmLimit</th>\n",
       "      <td>-0.13995</td>\n",
       "      <td>-0.13259</td>\n",
       "      <td>-0.14667</td>\n",
       "      <td>-0.13069</td>\n",
       "      <td>-0.14482</td>\n",
       "      <td>-0.14495</td>\n",
       "    </tr>\n",
       "    <tr>\n",
       "      <th>Intercept</th>\n",
       "      <td>-1.28918</td>\n",
       "      <td>-1.29452</td>\n",
       "      <td>-1.28216</td>\n",
       "      <td>-1.28727</td>\n",
       "      <td>-1.29194</td>\n",
       "      <td>-1.29137</td>\n",
       "    </tr>\n",
       "    <tr>\n",
       "      <th>LicAge</th>\n",
       "      <td>0.00741</td>\n",
       "      <td>-0.00878</td>\n",
       "      <td>0.04856</td>\n",
       "      <td>-0.00904</td>\n",
       "      <td>0.01198</td>\n",
       "      <td>0.00715</td>\n",
       "    </tr>\n",
       "    <tr>\n",
       "      <th>MariStat</th>\n",
       "      <td>-0.04572</td>\n",
       "      <td>-0.04096</td>\n",
       "      <td>-0.04681</td>\n",
       "      <td>-0.04376</td>\n",
       "      <td>-0.04590</td>\n",
       "      <td>-0.05280</td>\n",
       "    </tr>\n",
       "    <tr>\n",
       "      <th>OutUseNb</th>\n",
       "      <td>0.06408</td>\n",
       "      <td>0.06867</td>\n",
       "      <td>0.06295</td>\n",
       "      <td>0.06185</td>\n",
       "      <td>0.06590</td>\n",
       "      <td>0.06100</td>\n",
       "    </tr>\n",
       "    <tr>\n",
       "      <th>RiskArea</th>\n",
       "      <td>0.02938</td>\n",
       "      <td>0.03050</td>\n",
       "      <td>0.03121</td>\n",
       "      <td>0.02942</td>\n",
       "      <td>0.02610</td>\n",
       "      <td>0.02972</td>\n",
       "    </tr>\n",
       "    <tr>\n",
       "      <th>VehUsg_Private</th>\n",
       "      <td>-0.11022</td>\n",
       "      <td>-0.12514</td>\n",
       "      <td>-0.08953</td>\n",
       "      <td>-0.12153</td>\n",
       "      <td>-0.09286</td>\n",
       "      <td>-0.10635</td>\n",
       "    </tr>\n",
       "    <tr>\n",
       "      <th>VehUsg_Private+trip to office</th>\n",
       "      <td>0.00000</td>\n",
       "      <td>0.00000</td>\n",
       "      <td>0.00000</td>\n",
       "      <td>0.00000</td>\n",
       "      <td>0.01606</td>\n",
       "      <td>0.00000</td>\n",
       "    </tr>\n",
       "    <tr>\n",
       "      <th>VehUsg_Professional</th>\n",
       "      <td>0.11054</td>\n",
       "      <td>0.10642</td>\n",
       "      <td>0.11107</td>\n",
       "      <td>0.09934</td>\n",
       "      <td>0.12514</td>\n",
       "      <td>0.12255</td>\n",
       "    </tr>\n",
       "    <tr>\n",
       "      <th>VehUsg_Professional run</th>\n",
       "      <td>0.06028</td>\n",
       "      <td>0.06601</td>\n",
       "      <td>0.05539</td>\n",
       "      <td>0.05268</td>\n",
       "      <td>0.06660</td>\n",
       "      <td>0.06588</td>\n",
       "    </tr>\n",
       "  </tbody>\n",
       "</table>\n",
       "</div>"
      ],
      "text/plain": [
       "                               overall        0        1        2        3  \\\n",
       "BonusMalus                     0.19253  0.19272  0.19500  0.19388  0.18716   \n",
       "CSP1                          -0.02652 -0.03299 -0.03104 -0.02481 -0.02339   \n",
       "CSP2                          -0.05998 -0.05937 -0.06678 -0.05626 -0.06378   \n",
       "CSP3                           0.03577  0.03130  0.03131  0.04234  0.03150   \n",
       "CSP4                           0.01363  0.00252  0.02246  0.01355  0.01224   \n",
       "CSP5                          -0.00567 -0.00535 -0.01494  0.00000 -0.02058   \n",
       "CSP6                           0.03688  0.02172  0.03805  0.05037  0.01569   \n",
       "CSP7                          -0.01064 -0.00859 -0.03899 -0.00804 -0.01102   \n",
       "DrivAge                        0.10261  0.12609  0.04942  0.16978  0.01630   \n",
       "DrivAgeSq                     -0.10989 -0.11166 -0.11085 -0.16456 -0.02017   \n",
       "Gender                        -0.00989 -0.01105 -0.01387 -0.01066  0.00185   \n",
       "HasKmLimit                    -0.13995 -0.13259 -0.14667 -0.13069 -0.14482   \n",
       "Intercept                     -1.28918 -1.29452 -1.28216 -1.28727 -1.29194   \n",
       "LicAge                         0.00741 -0.00878  0.04856 -0.00904  0.01198   \n",
       "MariStat                      -0.04572 -0.04096 -0.04681 -0.04376 -0.04590   \n",
       "OutUseNb                       0.06408  0.06867  0.06295  0.06185  0.06590   \n",
       "RiskArea                       0.02938  0.03050  0.03121  0.02942  0.02610   \n",
       "VehUsg_Private                -0.11022 -0.12514 -0.08953 -0.12153 -0.09286   \n",
       "VehUsg_Private+trip to office  0.00000  0.00000  0.00000  0.00000  0.01606   \n",
       "VehUsg_Professional            0.11054  0.10642  0.11107  0.09934  0.12514   \n",
       "VehUsg_Professional run        0.06028  0.06601  0.05539  0.05268  0.06660   \n",
       "\n",
       "                                     4  \n",
       "BonusMalus                     0.19145  \n",
       "CSP1                          -0.03052  \n",
       "CSP2                          -0.06543  \n",
       "CSP3                           0.03561  \n",
       "CSP4                           0.00077  \n",
       "CSP5                          -0.01709  \n",
       "CSP6                           0.02576  \n",
       "CSP7                          -0.00543  \n",
       "DrivAge                        0.06928  \n",
       "DrivAgeSq                     -0.06821  \n",
       "Gender                        -0.01545  \n",
       "HasKmLimit                    -0.14495  \n",
       "Intercept                     -1.29137  \n",
       "LicAge                         0.00715  \n",
       "MariStat                      -0.05280  \n",
       "OutUseNb                       0.06100  \n",
       "RiskArea                       0.02972  \n",
       "VehUsg_Private                -0.10635  \n",
       "VehUsg_Private+trip to office  0.00000  \n",
       "VehUsg_Professional            0.12255  \n",
       "VehUsg_Professional run        0.06588  "
      ]
     },
     "execution_count": 35,
     "metadata": {},
     "output_type": "execute_result"
    }
   ],
   "source": [
    "# Таблица нормированных коэффициентов по всем данным и на кросс-валидации\n",
    "\n",
    "pmodels = {}\n",
    "pmodels['overall'] = glm_poisson.coef_norm()\n",
    "for x in range(len(glm_poisson.cross_validation_models())):\n",
    "    pmodels[x] = glm_poisson.cross_validation_models()[x].coef_norm()\n",
    "pd.DataFrame.from_dict(pmodels).round(5)"
   ]
  },
  {
   "cell_type": "code",
   "execution_count": 36,
   "metadata": {
    "colab": {
     "base_uri": "https://localhost:8080/"
    },
    "colab_type": "code",
    "executionInfo": {
     "elapsed": 80144,
     "status": "ok",
     "timestamp": 1576771252925,
     "user": {
      "displayName": "Aleksandr Shchegolev",
      "photoUrl": "",
      "userId": "00652555022685556919"
     },
     "user_tz": -180
    },
    "id": "RiHV0aTKHjdK",
    "outputId": "302c5eea-29a0-407e-c20a-b32214caf881"
   },
   "outputs": [
    {
     "name": "stdout",
     "output_type": "stream",
     "text": [
      "glm prediction progress: |████████████████████████████████████████████████| 100%\n",
      "glm prediction progress: |████████████████████████████████████████████████| 100%\n",
      "glm prediction progress: |████████████████████████████████████████████████| 100%\n"
     ]
    }
   ],
   "source": [
    "# Построение прогнозных значений для обучающей, валидационной и тестовой выборок\n",
    "\n",
    "c_train_pred = glm_poisson.predict(h2o_train_c).as_data_frame()\n",
    "c_valid_pred = glm_poisson.predict(h2o_valid_c).as_data_frame()\n",
    "c_test_pred = glm_poisson.predict(h2o_test_c).as_data_frame()"
   ]
  },
  {
   "cell_type": "markdown",
   "metadata": {
    "colab_type": "text",
    "id": "8nmnj56EM9gK"
   },
   "source": [
    "### Построение GLM для среднего убытка"
   ]
  },
  {
   "cell_type": "code",
   "execution_count": 37,
   "metadata": {
    "colab": {
     "base_uri": "https://localhost:8080/"
    },
    "colab_type": "code",
    "executionInfo": {
     "elapsed": 81085,
     "status": "ok",
     "timestamp": 1576771253874,
     "user": {
      "displayName": "Aleksandr Shchegolev",
      "photoUrl": "",
      "userId": "00652555022685556919"
     },
     "user_tz": -180
    },
    "id": "9u4TIE54NAeo",
    "outputId": "d37cebf8-25fe-4eab-ff7e-ab0e5b777fa8"
   },
   "outputs": [
    {
     "name": "stdout",
     "output_type": "stream",
     "text": [
      "Parse progress: |█████████████████████████████████████████████████████████| 100%\n",
      "Parse progress: |█████████████████████████████████████████████████████████| 100%\n",
      "Parse progress: |█████████████████████████████████████████████████████████| 100%\n"
     ]
    }
   ],
   "source": [
    "# Преобразование в H2O-Frame\n",
    "\n",
    "h2o_train_ac = h2o.H2OFrame(pd.concat([x_train_ac, y_train_ac], axis=1))\n",
    "h2o_valid_ac = h2o.H2OFrame(pd.concat([x_valid_ac, y_valid_ac], axis=1))\n",
    "h2o_test_ac = h2o.H2OFrame(pd.concat([x_test_ac, y_test_ac], axis=1))"
   ]
  },
  {
   "cell_type": "code",
   "execution_count": 38,
   "metadata": {
    "colab": {
     "base_uri": "https://localhost:8080/"
    },
    "colab_type": "code",
    "executionInfo": {
     "elapsed": 81392,
     "status": "ok",
     "timestamp": 1576771254192,
     "user": {
      "displayName": "Aleksandr Shchegolev",
      "photoUrl": "",
      "userId": "00652555022685556919"
     },
     "user_tz": -180
    },
    "id": "Hs0wgHw0EDTy",
    "outputId": "1115f684-06be-456c-c318-822187b069a4"
   },
   "outputs": [
    {
     "name": "stdout",
     "output_type": "stream",
     "text": [
      "['Exposure', 'LicAge', 'Gender', 'MariStat', 'DrivAge', 'HasKmLimit', 'BonusMalus', 'OutUseNb', 'RiskArea', 'VehUsg_Private', 'VehUsg_Private+trip to office', 'VehUsg_Professional', 'VehUsg_Professional run', 'CSP1', 'CSP2', 'CSP3', 'CSP4', 'CSP5', 'CSP6', 'CSP7', 'DrivAgeSq', 'AvgClaim']\n"
     ]
    }
   ],
   "source": [
    "print(h2o_train_ac.names)"
   ]
  },
  {
   "cell_type": "code",
   "execution_count": 39,
   "metadata": {
    "colab": {
     "base_uri": "https://localhost:8080/"
    },
    "colab_type": "code",
    "executionInfo": {
     "elapsed": 82076,
     "status": "ok",
     "timestamp": 1576771254887,
     "user": {
      "displayName": "Aleksandr Shchegolev",
      "photoUrl": "",
      "userId": "00652555022685556919"
     },
     "user_tz": -180
    },
    "id": "O4ZJ3o25EKnP",
    "outputId": "15d17b6a-cfe7-48e0-ed99-48f7aa3055e9"
   },
   "outputs": [
    {
     "name": "stdout",
     "output_type": "stream",
     "text": [
      "glm Model Build progress: |███████████████████████████████████████████████| 100%\n"
     ]
    }
   ],
   "source": [
    "# Инициализируем и обучим GLM модель c кросс-валидацией\n",
    "\n",
    "glm_gamma = H2OGeneralizedLinearEstimator(family = \"gamma\", link = \"Log\", nfolds=5)\n",
    "glm_gamma.train(y=\"AvgClaim\", x = h2o_train_ac.names[1:-1], training_frame = h2o_train_ac, validation_frame = h2o_valid_ac, weights_column = \"Exposure\")"
   ]
  },
  {
   "cell_type": "code",
   "execution_count": 40,
   "metadata": {
    "colab": {
     "base_uri": "https://localhost:8080/"
    },
    "colab_type": "code",
    "executionInfo": {
     "elapsed": 82004,
     "status": "ok",
     "timestamp": 1576771254888,
     "user": {
      "displayName": "Aleksandr Shchegolev",
      "photoUrl": "",
      "userId": "00652555022685556919"
     },
     "user_tz": -180
    },
    "id": "tAC4dIdJEKXl",
    "outputId": "8c955478-0dca-4c3e-9f8b-040f7b95d945"
   },
   "outputs": [
    {
     "name": "stdout",
     "output_type": "stream",
     "text": [
      "\n",
      "GLM Model: summary\n"
     ]
    },
    {
     "data": {
      "text/html": [
       "<div>\n",
       "<style scoped>\n",
       "    .dataframe tbody tr th:only-of-type {\n",
       "        vertical-align: middle;\n",
       "    }\n",
       "\n",
       "    .dataframe tbody tr th {\n",
       "        vertical-align: top;\n",
       "    }\n",
       "\n",
       "    .dataframe thead th {\n",
       "        text-align: right;\n",
       "    }\n",
       "</style>\n",
       "<table border=\"1\" class=\"dataframe\">\n",
       "  <thead>\n",
       "    <tr style=\"text-align: right;\">\n",
       "      <th></th>\n",
       "      <th></th>\n",
       "      <th>family</th>\n",
       "      <th>link</th>\n",
       "      <th>regularization</th>\n",
       "      <th>number_of_predictors_total</th>\n",
       "      <th>number_of_active_predictors</th>\n",
       "      <th>number_of_iterations</th>\n",
       "      <th>training_frame</th>\n",
       "    </tr>\n",
       "  </thead>\n",
       "  <tbody>\n",
       "    <tr>\n",
       "      <th>0</th>\n",
       "      <td></td>\n",
       "      <td>gamma</td>\n",
       "      <td>log</td>\n",
       "      <td>Elastic Net (alpha = 0.5, lambda = 1.782E-4 )</td>\n",
       "      <td>20</td>\n",
       "      <td>19</td>\n",
       "      <td>3</td>\n",
       "      <td>Key_Frame__upload_bf8c117bbddb344733030204ff2d4a0f.hex</td>\n",
       "    </tr>\n",
       "  </tbody>\n",
       "</table>\n",
       "</div>"
      ],
      "text/plain": [
       "    family link                                 regularization  \\\n",
       "0    gamma  log  Elastic Net (alpha = 0.5, lambda = 1.782E-4 )   \n",
       "\n",
       "   number_of_predictors_total number_of_active_predictors  \\\n",
       "0                          20                          19   \n",
       "\n",
       "   number_of_iterations  \\\n",
       "0                     3   \n",
       "\n",
       "                                           training_frame  \n",
       "0  Key_Frame__upload_bf8c117bbddb344733030204ff2d4a0f.hex  "
      ]
     },
     "metadata": {},
     "output_type": "display_data"
    },
    {
     "data": {
      "text/plain": []
     },
     "execution_count": 40,
     "metadata": {},
     "output_type": "execute_result"
    }
   ],
   "source": [
    "# Параметры модели: распределение, функция связи, гиперпараметры регуляризации, количество использованных объясняющих переменных\n",
    "\n",
    "glm_gamma.summary()"
   ]
  },
  {
   "cell_type": "code",
   "execution_count": 41,
   "metadata": {
    "colab": {
     "base_uri": "https://localhost:8080/"
    },
    "colab_type": "code",
    "executionInfo": {
     "elapsed": 82309,
     "status": "ok",
     "timestamp": 1576771255199,
     "user": {
      "displayName": "Aleksandr Shchegolev",
      "photoUrl": "",
      "userId": "00652555022685556919"
     },
     "user_tz": -180
    },
    "id": "NfRbZGBoE7vP",
    "outputId": "48f7a6ca-58e8-4513-fbf0-5c171d712aec"
   },
   "outputs": [
    {
     "data": {
      "text/html": [
       "<div>\n",
       "<style scoped>\n",
       "    .dataframe tbody tr th:only-of-type {\n",
       "        vertical-align: middle;\n",
       "    }\n",
       "\n",
       "    .dataframe tbody tr th {\n",
       "        vertical-align: top;\n",
       "    }\n",
       "\n",
       "    .dataframe thead th {\n",
       "        text-align: right;\n",
       "    }\n",
       "</style>\n",
       "<table border=\"1\" class=\"dataframe\">\n",
       "  <thead>\n",
       "    <tr style=\"text-align: right;\">\n",
       "      <th></th>\n",
       "      <th></th>\n",
       "      <th>mean</th>\n",
       "      <th>sd</th>\n",
       "      <th>cv_1_valid</th>\n",
       "      <th>cv_2_valid</th>\n",
       "      <th>cv_3_valid</th>\n",
       "      <th>cv_4_valid</th>\n",
       "      <th>cv_5_valid</th>\n",
       "    </tr>\n",
       "  </thead>\n",
       "  <tbody>\n",
       "    <tr>\n",
       "      <th>0</th>\n",
       "      <td>mae</td>\n",
       "      <td>1045.9604</td>\n",
       "      <td>24.55808</td>\n",
       "      <td>1038.861</td>\n",
       "      <td>1023.04346</td>\n",
       "      <td>1024.5453</td>\n",
       "      <td>1066.4042</td>\n",
       "      <td>1076.9484</td>\n",
       "    </tr>\n",
       "    <tr>\n",
       "      <th>1</th>\n",
       "      <td>mean_residual_deviance</td>\n",
       "      <td>1.9645181</td>\n",
       "      <td>0.06107039</td>\n",
       "      <td>1.9602493</td>\n",
       "      <td>1.947963</td>\n",
       "      <td>1.8748348</td>\n",
       "      <td>2.0352159</td>\n",
       "      <td>2.0043275</td>\n",
       "    </tr>\n",
       "    <tr>\n",
       "      <th>2</th>\n",
       "      <td>mse</td>\n",
       "      <td>7260119.5</td>\n",
       "      <td>4980672.5</td>\n",
       "      <td>4618186.5</td>\n",
       "      <td>1.5757304E7</td>\n",
       "      <td>3589593.8</td>\n",
       "      <td>4720834.5</td>\n",
       "      <td>7614680.5</td>\n",
       "    </tr>\n",
       "    <tr>\n",
       "      <th>3</th>\n",
       "      <td>null_deviance</td>\n",
       "      <td>1853.8655</td>\n",
       "      <td>74.27506</td>\n",
       "      <td>1785.3132</td>\n",
       "      <td>1847.2856</td>\n",
       "      <td>1778.073</td>\n",
       "      <td>1919.5597</td>\n",
       "      <td>1939.0957</td>\n",
       "    </tr>\n",
       "    <tr>\n",
       "      <th>4</th>\n",
       "      <td>r2</td>\n",
       "      <td>-0.0018745367</td>\n",
       "      <td>0.007098992</td>\n",
       "      <td>-3.710864E-4</td>\n",
       "      <td>0.0016175916</td>\n",
       "      <td>-0.011903862</td>\n",
       "      <td>-0.0054351124</td>\n",
       "      <td>0.0067197853</td>\n",
       "    </tr>\n",
       "    <tr>\n",
       "      <th>5</th>\n",
       "      <td>residual_deviance</td>\n",
       "      <td>1857.5271</td>\n",
       "      <td>71.93383</td>\n",
       "      <td>1780.273</td>\n",
       "      <td>1825.8102</td>\n",
       "      <td>1821.7488</td>\n",
       "      <td>1961.2664</td>\n",
       "      <td>1898.5371</td>\n",
       "    </tr>\n",
       "    <tr>\n",
       "      <th>6</th>\n",
       "      <td>rmse</td>\n",
       "      <td>2589.077</td>\n",
       "      <td>834.26605</td>\n",
       "      <td>2148.9966</td>\n",
       "      <td>3969.547</td>\n",
       "      <td>1894.6223</td>\n",
       "      <td>2172.748</td>\n",
       "      <td>2759.471</td>\n",
       "    </tr>\n",
       "    <tr>\n",
       "      <th>7</th>\n",
       "      <td>rmsle</td>\n",
       "      <td>1.7124239</td>\n",
       "      <td>0.034563787</td>\n",
       "      <td>1.7050155</td>\n",
       "      <td>1.7342614</td>\n",
       "      <td>1.6550205</td>\n",
       "      <td>1.7301483</td>\n",
       "      <td>1.7376738</td>\n",
       "    </tr>\n",
       "  </tbody>\n",
       "</table>\n",
       "</div>"
      ],
      "text/plain": [
       "                                    mean           sd    cv_1_valid  \\\n",
       "0                     mae      1045.9604     24.55808      1038.861   \n",
       "1  mean_residual_deviance      1.9645181   0.06107039     1.9602493   \n",
       "2                     mse      7260119.5    4980672.5     4618186.5   \n",
       "3           null_deviance      1853.8655     74.27506     1785.3132   \n",
       "4                      r2  -0.0018745367  0.007098992  -3.710864E-4   \n",
       "5       residual_deviance      1857.5271     71.93383      1780.273   \n",
       "6                    rmse       2589.077    834.26605     2148.9966   \n",
       "7                   rmsle      1.7124239  0.034563787     1.7050155   \n",
       "\n",
       "     cv_2_valid    cv_3_valid     cv_4_valid    cv_5_valid  \n",
       "0    1023.04346     1024.5453      1066.4042     1076.9484  \n",
       "1      1.947963     1.8748348      2.0352159     2.0043275  \n",
       "2   1.5757304E7     3589593.8      4720834.5     7614680.5  \n",
       "3     1847.2856      1778.073      1919.5597     1939.0957  \n",
       "4  0.0016175916  -0.011903862  -0.0054351124  0.0067197853  \n",
       "5     1825.8102     1821.7488      1961.2664     1898.5371  \n",
       "6      3969.547     1894.6223       2172.748      2759.471  \n",
       "7     1.7342614     1.6550205      1.7301483     1.7376738  "
      ]
     },
     "execution_count": 41,
     "metadata": {},
     "output_type": "execute_result"
    }
   ],
   "source": [
    "# Метрики качества модели - по всем данным и на кросс-валидации\n",
    "\n",
    "glm_gamma.cross_validation_metrics_summary().as_data_frame()"
   ]
  },
  {
   "cell_type": "code",
   "execution_count": 42,
   "metadata": {
    "colab": {
     "base_uri": "https://localhost:8080/"
    },
    "colab_type": "code",
    "executionInfo": {
     "elapsed": 82304,
     "status": "ok",
     "timestamp": 1576771255200,
     "user": {
      "displayName": "Aleksandr Shchegolev",
      "photoUrl": "",
      "userId": "00652555022685556919"
     },
     "user_tz": -180
    },
    "id": "uHZ93uk_E7nZ",
    "outputId": "bba74e94-2515-49bb-848d-0223b24e04df"
   },
   "outputs": [
    {
     "data": {
      "text/html": [
       "<div>\n",
       "<style scoped>\n",
       "    .dataframe tbody tr th:only-of-type {\n",
       "        vertical-align: middle;\n",
       "    }\n",
       "\n",
       "    .dataframe tbody tr th {\n",
       "        vertical-align: top;\n",
       "    }\n",
       "\n",
       "    .dataframe thead th {\n",
       "        text-align: right;\n",
       "    }\n",
       "</style>\n",
       "<table border=\"1\" class=\"dataframe\">\n",
       "  <thead>\n",
       "    <tr style=\"text-align: right;\">\n",
       "      <th></th>\n",
       "      <th>names</th>\n",
       "      <th>coefficients</th>\n",
       "      <th>standardized_coefficients</th>\n",
       "    </tr>\n",
       "  </thead>\n",
       "  <tbody>\n",
       "    <tr>\n",
       "      <th>0</th>\n",
       "      <td>Intercept</td>\n",
       "      <td>7.622904</td>\n",
       "      <td>6.920750</td>\n",
       "    </tr>\n",
       "    <tr>\n",
       "      <th>1</th>\n",
       "      <td>LicAge</td>\n",
       "      <td>-0.000346</td>\n",
       "      <td>-0.054870</td>\n",
       "    </tr>\n",
       "    <tr>\n",
       "      <th>2</th>\n",
       "      <td>Gender</td>\n",
       "      <td>-0.053660</td>\n",
       "      <td>-0.025964</td>\n",
       "    </tr>\n",
       "    <tr>\n",
       "      <th>3</th>\n",
       "      <td>MariStat</td>\n",
       "      <td>0.150567</td>\n",
       "      <td>0.055406</td>\n",
       "    </tr>\n",
       "    <tr>\n",
       "      <th>4</th>\n",
       "      <td>DrivAge</td>\n",
       "      <td>-0.035689</td>\n",
       "      <td>-0.524162</td>\n",
       "    </tr>\n",
       "    <tr>\n",
       "      <th>5</th>\n",
       "      <td>HasKmLimit</td>\n",
       "      <td>-0.055473</td>\n",
       "      <td>-0.013748</td>\n",
       "    </tr>\n",
       "    <tr>\n",
       "      <th>6</th>\n",
       "      <td>BonusMalus</td>\n",
       "      <td>-0.002959</td>\n",
       "      <td>-0.048894</td>\n",
       "    </tr>\n",
       "    <tr>\n",
       "      <th>7</th>\n",
       "      <td>OutUseNb</td>\n",
       "      <td>0.014387</td>\n",
       "      <td>0.010521</td>\n",
       "    </tr>\n",
       "    <tr>\n",
       "      <th>8</th>\n",
       "      <td>RiskArea</td>\n",
       "      <td>0.042049</td>\n",
       "      <td>0.094112</td>\n",
       "    </tr>\n",
       "    <tr>\n",
       "      <th>9</th>\n",
       "      <td>VehUsg_Private</td>\n",
       "      <td>0.040138</td>\n",
       "      <td>0.018185</td>\n",
       "    </tr>\n",
       "    <tr>\n",
       "      <th>10</th>\n",
       "      <td>VehUsg_Private+trip to office</td>\n",
       "      <td>0.000000</td>\n",
       "      <td>0.000000</td>\n",
       "    </tr>\n",
       "    <tr>\n",
       "      <th>11</th>\n",
       "      <td>VehUsg_Professional</td>\n",
       "      <td>-0.037911</td>\n",
       "      <td>-0.013968</td>\n",
       "    </tr>\n",
       "    <tr>\n",
       "      <th>12</th>\n",
       "      <td>VehUsg_Professional run</td>\n",
       "      <td>-0.246361</td>\n",
       "      <td>-0.037118</td>\n",
       "    </tr>\n",
       "    <tr>\n",
       "      <th>13</th>\n",
       "      <td>CSP1</td>\n",
       "      <td>0.116052</td>\n",
       "      <td>0.017820</td>\n",
       "    </tr>\n",
       "    <tr>\n",
       "      <th>14</th>\n",
       "      <td>CSP2</td>\n",
       "      <td>-0.121922</td>\n",
       "      <td>-0.020516</td>\n",
       "    </tr>\n",
       "    <tr>\n",
       "      <th>15</th>\n",
       "      <td>CSP3</td>\n",
       "      <td>-0.165770</td>\n",
       "      <td>-0.017081</td>\n",
       "    </tr>\n",
       "    <tr>\n",
       "      <th>16</th>\n",
       "      <td>CSP4</td>\n",
       "      <td>-0.042381</td>\n",
       "      <td>-0.011751</td>\n",
       "    </tr>\n",
       "    <tr>\n",
       "      <th>17</th>\n",
       "      <td>CSP5</td>\n",
       "      <td>0.051988</td>\n",
       "      <td>0.024517</td>\n",
       "    </tr>\n",
       "    <tr>\n",
       "      <th>18</th>\n",
       "      <td>CSP6</td>\n",
       "      <td>-0.005362</td>\n",
       "      <td>-0.002085</td>\n",
       "    </tr>\n",
       "    <tr>\n",
       "      <th>19</th>\n",
       "      <td>CSP7</td>\n",
       "      <td>-1.365733</td>\n",
       "      <td>-0.015087</td>\n",
       "    </tr>\n",
       "    <tr>\n",
       "      <th>20</th>\n",
       "      <td>DrivAgeSq</td>\n",
       "      <td>0.000371</td>\n",
       "      <td>0.547532</td>\n",
       "    </tr>\n",
       "  </tbody>\n",
       "</table>\n",
       "</div>"
      ],
      "text/plain": [
       "                            names  coefficients  standardized_coefficients\n",
       "0                       Intercept      7.622904                   6.920750\n",
       "1                          LicAge     -0.000346                  -0.054870\n",
       "2                          Gender     -0.053660                  -0.025964\n",
       "3                        MariStat      0.150567                   0.055406\n",
       "4                         DrivAge     -0.035689                  -0.524162\n",
       "5                      HasKmLimit     -0.055473                  -0.013748\n",
       "6                      BonusMalus     -0.002959                  -0.048894\n",
       "7                        OutUseNb      0.014387                   0.010521\n",
       "8                        RiskArea      0.042049                   0.094112\n",
       "9                  VehUsg_Private      0.040138                   0.018185\n",
       "10  VehUsg_Private+trip to office      0.000000                   0.000000\n",
       "11            VehUsg_Professional     -0.037911                  -0.013968\n",
       "12        VehUsg_Professional run     -0.246361                  -0.037118\n",
       "13                           CSP1      0.116052                   0.017820\n",
       "14                           CSP2     -0.121922                  -0.020516\n",
       "15                           CSP3     -0.165770                  -0.017081\n",
       "16                           CSP4     -0.042381                  -0.011751\n",
       "17                           CSP5      0.051988                   0.024517\n",
       "18                           CSP6     -0.005362                  -0.002085\n",
       "19                           CSP7     -1.365733                  -0.015087\n",
       "20                      DrivAgeSq      0.000371                   0.547532"
      ]
     },
     "execution_count": 42,
     "metadata": {},
     "output_type": "execute_result"
    }
   ],
   "source": [
    "# Таблица коэффициентов модели (в зависимости от модели могут выводиться также стандартная ошибка, z-score и p-value)\n",
    "\n",
    "glm_gamma._model_json['output']['coefficients_table'].as_data_frame()"
   ]
  },
  {
   "cell_type": "code",
   "execution_count": 43,
   "metadata": {
    "colab": {
     "base_uri": "https://localhost:8080/"
    },
    "colab_type": "code",
    "executionInfo": {
     "elapsed": 82609,
     "status": "ok",
     "timestamp": 1576771255510,
     "user": {
      "displayName": "Aleksandr Shchegolev",
      "photoUrl": "",
      "userId": "00652555022685556919"
     },
     "user_tz": -180
    },
    "id": "DFa-sS1ME7eq",
    "outputId": "4aa3bd41-4019-4c80-ad8d-7a14b6a27072"
   },
   "outputs": [
    {
     "data": {
      "text/html": [
       "<div>\n",
       "<style scoped>\n",
       "    .dataframe tbody tr th:only-of-type {\n",
       "        vertical-align: middle;\n",
       "    }\n",
       "\n",
       "    .dataframe tbody tr th {\n",
       "        vertical-align: top;\n",
       "    }\n",
       "\n",
       "    .dataframe thead th {\n",
       "        text-align: right;\n",
       "    }\n",
       "</style>\n",
       "<table border=\"1\" class=\"dataframe\">\n",
       "  <thead>\n",
       "    <tr style=\"text-align: right;\">\n",
       "      <th></th>\n",
       "      <th>overall</th>\n",
       "      <th>0</th>\n",
       "      <th>1</th>\n",
       "      <th>2</th>\n",
       "      <th>3</th>\n",
       "      <th>4</th>\n",
       "    </tr>\n",
       "  </thead>\n",
       "  <tbody>\n",
       "    <tr>\n",
       "      <th>BonusMalus</th>\n",
       "      <td>-0.04889</td>\n",
       "      <td>-0.04691</td>\n",
       "      <td>-0.02917</td>\n",
       "      <td>-0.04421</td>\n",
       "      <td>-0.06461</td>\n",
       "      <td>-0.05820</td>\n",
       "    </tr>\n",
       "    <tr>\n",
       "      <th>CSP1</th>\n",
       "      <td>0.01782</td>\n",
       "      <td>-0.00261</td>\n",
       "      <td>0.03583</td>\n",
       "      <td>0.00607</td>\n",
       "      <td>0.02747</td>\n",
       "      <td>0.01482</td>\n",
       "    </tr>\n",
       "    <tr>\n",
       "      <th>CSP2</th>\n",
       "      <td>-0.02052</td>\n",
       "      <td>-0.02105</td>\n",
       "      <td>-0.00715</td>\n",
       "      <td>-0.00051</td>\n",
       "      <td>-0.07300</td>\n",
       "      <td>-0.01895</td>\n",
       "    </tr>\n",
       "    <tr>\n",
       "      <th>CSP3</th>\n",
       "      <td>-0.01708</td>\n",
       "      <td>-0.00428</td>\n",
       "      <td>-0.01973</td>\n",
       "      <td>-0.02315</td>\n",
       "      <td>-0.02119</td>\n",
       "      <td>-0.02188</td>\n",
       "    </tr>\n",
       "    <tr>\n",
       "      <th>CSP4</th>\n",
       "      <td>-0.01175</td>\n",
       "      <td>-0.01700</td>\n",
       "      <td>-0.00090</td>\n",
       "      <td>-0.00557</td>\n",
       "      <td>-0.04554</td>\n",
       "      <td>0.00000</td>\n",
       "    </tr>\n",
       "    <tr>\n",
       "      <th>CSP5</th>\n",
       "      <td>0.02452</td>\n",
       "      <td>0.00935</td>\n",
       "      <td>0.04751</td>\n",
       "      <td>0.01776</td>\n",
       "      <td>0.00840</td>\n",
       "      <td>0.01687</td>\n",
       "    </tr>\n",
       "    <tr>\n",
       "      <th>CSP6</th>\n",
       "      <td>-0.00209</td>\n",
       "      <td>0.00194</td>\n",
       "      <td>0.00000</td>\n",
       "      <td>0.00000</td>\n",
       "      <td>0.00000</td>\n",
       "      <td>-0.03310</td>\n",
       "    </tr>\n",
       "    <tr>\n",
       "      <th>CSP7</th>\n",
       "      <td>-0.01509</td>\n",
       "      <td>-0.01776</td>\n",
       "      <td>-0.01527</td>\n",
       "      <td>-0.01531</td>\n",
       "      <td>-0.01697</td>\n",
       "      <td>0.00000</td>\n",
       "    </tr>\n",
       "    <tr>\n",
       "      <th>DrivAge</th>\n",
       "      <td>-0.52416</td>\n",
       "      <td>-0.54430</td>\n",
       "      <td>-0.45112</td>\n",
       "      <td>-0.50616</td>\n",
       "      <td>-0.60586</td>\n",
       "      <td>-0.54374</td>\n",
       "    </tr>\n",
       "    <tr>\n",
       "      <th>DrivAgeSq</th>\n",
       "      <td>0.54753</td>\n",
       "      <td>0.55399</td>\n",
       "      <td>0.47213</td>\n",
       "      <td>0.56383</td>\n",
       "      <td>0.59989</td>\n",
       "      <td>0.57963</td>\n",
       "    </tr>\n",
       "    <tr>\n",
       "      <th>Gender</th>\n",
       "      <td>-0.02596</td>\n",
       "      <td>-0.02227</td>\n",
       "      <td>-0.00718</td>\n",
       "      <td>-0.04949</td>\n",
       "      <td>-0.04930</td>\n",
       "      <td>-0.00450</td>\n",
       "    </tr>\n",
       "    <tr>\n",
       "      <th>HasKmLimit</th>\n",
       "      <td>-0.01375</td>\n",
       "      <td>-0.01180</td>\n",
       "      <td>-0.00653</td>\n",
       "      <td>-0.01612</td>\n",
       "      <td>-0.01629</td>\n",
       "      <td>-0.01677</td>\n",
       "    </tr>\n",
       "    <tr>\n",
       "      <th>Intercept</th>\n",
       "      <td>6.92075</td>\n",
       "      <td>6.91985</td>\n",
       "      <td>6.93323</td>\n",
       "      <td>6.91142</td>\n",
       "      <td>6.90897</td>\n",
       "      <td>6.92150</td>\n",
       "    </tr>\n",
       "    <tr>\n",
       "      <th>LicAge</th>\n",
       "      <td>-0.05487</td>\n",
       "      <td>-0.07028</td>\n",
       "      <td>-0.03451</td>\n",
       "      <td>-0.08096</td>\n",
       "      <td>-0.04609</td>\n",
       "      <td>-0.04403</td>\n",
       "    </tr>\n",
       "    <tr>\n",
       "      <th>MariStat</th>\n",
       "      <td>0.05541</td>\n",
       "      <td>0.05924</td>\n",
       "      <td>0.03515</td>\n",
       "      <td>0.06302</td>\n",
       "      <td>0.07096</td>\n",
       "      <td>0.04655</td>\n",
       "    </tr>\n",
       "    <tr>\n",
       "      <th>OutUseNb</th>\n",
       "      <td>0.01052</td>\n",
       "      <td>0.01592</td>\n",
       "      <td>0.01769</td>\n",
       "      <td>-0.01413</td>\n",
       "      <td>-0.00361</td>\n",
       "      <td>0.03355</td>\n",
       "    </tr>\n",
       "    <tr>\n",
       "      <th>RiskArea</th>\n",
       "      <td>0.09411</td>\n",
       "      <td>0.09661</td>\n",
       "      <td>0.10591</td>\n",
       "      <td>0.13353</td>\n",
       "      <td>0.06827</td>\n",
       "      <td>0.06620</td>\n",
       "    </tr>\n",
       "    <tr>\n",
       "      <th>VehUsg_Private</th>\n",
       "      <td>0.01818</td>\n",
       "      <td>0.00000</td>\n",
       "      <td>0.03712</td>\n",
       "      <td>0.02640</td>\n",
       "      <td>0.00000</td>\n",
       "      <td>0.02545</td>\n",
       "    </tr>\n",
       "    <tr>\n",
       "      <th>VehUsg_Private+trip to office</th>\n",
       "      <td>0.00000</td>\n",
       "      <td>-0.00550</td>\n",
       "      <td>0.00000</td>\n",
       "      <td>0.00000</td>\n",
       "      <td>0.00220</td>\n",
       "      <td>0.00000</td>\n",
       "    </tr>\n",
       "    <tr>\n",
       "      <th>VehUsg_Professional</th>\n",
       "      <td>-0.01397</td>\n",
       "      <td>0.00682</td>\n",
       "      <td>0.00000</td>\n",
       "      <td>-0.02159</td>\n",
       "      <td>-0.03013</td>\n",
       "      <td>-0.03128</td>\n",
       "    </tr>\n",
       "    <tr>\n",
       "      <th>VehUsg_Professional run</th>\n",
       "      <td>-0.03712</td>\n",
       "      <td>-0.03520</td>\n",
       "      <td>-0.04497</td>\n",
       "      <td>-0.04275</td>\n",
       "      <td>-0.04801</td>\n",
       "      <td>-0.01707</td>\n",
       "    </tr>\n",
       "  </tbody>\n",
       "</table>\n",
       "</div>"
      ],
      "text/plain": [
       "                               overall        0        1        2        3  \\\n",
       "BonusMalus                    -0.04889 -0.04691 -0.02917 -0.04421 -0.06461   \n",
       "CSP1                           0.01782 -0.00261  0.03583  0.00607  0.02747   \n",
       "CSP2                          -0.02052 -0.02105 -0.00715 -0.00051 -0.07300   \n",
       "CSP3                          -0.01708 -0.00428 -0.01973 -0.02315 -0.02119   \n",
       "CSP4                          -0.01175 -0.01700 -0.00090 -0.00557 -0.04554   \n",
       "CSP5                           0.02452  0.00935  0.04751  0.01776  0.00840   \n",
       "CSP6                          -0.00209  0.00194  0.00000  0.00000  0.00000   \n",
       "CSP7                          -0.01509 -0.01776 -0.01527 -0.01531 -0.01697   \n",
       "DrivAge                       -0.52416 -0.54430 -0.45112 -0.50616 -0.60586   \n",
       "DrivAgeSq                      0.54753  0.55399  0.47213  0.56383  0.59989   \n",
       "Gender                        -0.02596 -0.02227 -0.00718 -0.04949 -0.04930   \n",
       "HasKmLimit                    -0.01375 -0.01180 -0.00653 -0.01612 -0.01629   \n",
       "Intercept                      6.92075  6.91985  6.93323  6.91142  6.90897   \n",
       "LicAge                        -0.05487 -0.07028 -0.03451 -0.08096 -0.04609   \n",
       "MariStat                       0.05541  0.05924  0.03515  0.06302  0.07096   \n",
       "OutUseNb                       0.01052  0.01592  0.01769 -0.01413 -0.00361   \n",
       "RiskArea                       0.09411  0.09661  0.10591  0.13353  0.06827   \n",
       "VehUsg_Private                 0.01818  0.00000  0.03712  0.02640  0.00000   \n",
       "VehUsg_Private+trip to office  0.00000 -0.00550  0.00000  0.00000  0.00220   \n",
       "VehUsg_Professional           -0.01397  0.00682  0.00000 -0.02159 -0.03013   \n",
       "VehUsg_Professional run       -0.03712 -0.03520 -0.04497 -0.04275 -0.04801   \n",
       "\n",
       "                                     4  \n",
       "BonusMalus                    -0.05820  \n",
       "CSP1                           0.01482  \n",
       "CSP2                          -0.01895  \n",
       "CSP3                          -0.02188  \n",
       "CSP4                           0.00000  \n",
       "CSP5                           0.01687  \n",
       "CSP6                          -0.03310  \n",
       "CSP7                           0.00000  \n",
       "DrivAge                       -0.54374  \n",
       "DrivAgeSq                      0.57963  \n",
       "Gender                        -0.00450  \n",
       "HasKmLimit                    -0.01677  \n",
       "Intercept                      6.92150  \n",
       "LicAge                        -0.04403  \n",
       "MariStat                       0.04655  \n",
       "OutUseNb                       0.03355  \n",
       "RiskArea                       0.06620  \n",
       "VehUsg_Private                 0.02545  \n",
       "VehUsg_Private+trip to office  0.00000  \n",
       "VehUsg_Professional           -0.03128  \n",
       "VehUsg_Professional run       -0.01707  "
      ]
     },
     "execution_count": 43,
     "metadata": {},
     "output_type": "execute_result"
    }
   ],
   "source": [
    "# Таблица нормированных коэффициентов по всем данным и на кросс-валидации\n",
    "\n",
    "pmodels = {}\n",
    "pmodels['overall'] = glm_gamma.coef_norm()\n",
    "for x in range(len(glm_gamma.cross_validation_models())):\n",
    "    pmodels[x] = glm_gamma.cross_validation_models()[x].coef_norm()\n",
    "pd.DataFrame.from_dict(pmodels).round(5)"
   ]
  },
  {
   "cell_type": "code",
   "execution_count": 44,
   "metadata": {
    "colab": {
     "base_uri": "https://localhost:8080/"
    },
    "colab_type": "code",
    "executionInfo": {
     "elapsed": 82981,
     "status": "ok",
     "timestamp": 1576771255888,
     "user": {
      "displayName": "Aleksandr Shchegolev",
      "photoUrl": "",
      "userId": "00652555022685556919"
     },
     "user_tz": -180
    },
    "id": "CoBse4X5_no7",
    "outputId": "a2788681-045f-4ef6-d389-e2799d3b59b4"
   },
   "outputs": [
    {
     "name": "stdout",
     "output_type": "stream",
     "text": [
      "glm prediction progress: |████████████████████████████████████████████████| 100%\n",
      "glm prediction progress: |████████████████████████████████████████████████| 100%\n",
      "glm prediction progress: |████████████████████████████████████████████████| 100%\n"
     ]
    }
   ],
   "source": [
    "# Построение прогнозных значений для обучающей, валидационной и тестовой выборок\n",
    "\n",
    "ac_train_pred = glm_gamma.predict(h2o_train_ac).as_data_frame()\n",
    "ac_valid_pred = glm_gamma.predict(h2o_valid_ac).as_data_frame()\n",
    "ac_test_pred = glm_gamma.predict(h2o_test_ac).as_data_frame()"
   ]
  },
  {
   "cell_type": "markdown",
   "metadata": {
    "colab_type": "text",
    "id": "A84l-r2aIxfK"
   },
   "source": [
    "### Использование GLM моделей"
   ]
  },
  {
   "cell_type": "code",
   "execution_count": 45,
   "metadata": {
    "colab": {
     "base_uri": "https://localhost:8080/"
    },
    "colab_type": "code",
    "executionInfo": {
     "elapsed": 85965,
     "status": "ok",
     "timestamp": 1576771258877,
     "user": {
      "displayName": "Aleksandr Shchegolev",
      "photoUrl": "",
      "userId": "00652555022685556919"
     },
     "user_tz": -180
    },
    "id": "-bkMpTD6Gcra",
    "outputId": "8698a889-729c-4395-f6c6-0ba999a9d831"
   },
   "outputs": [
    {
     "name": "stdout",
     "output_type": "stream",
     "text": [
      "Parse progress: |█████████████████████████████████████████████████████████| 100%\n"
     ]
    }
   ],
   "source": [
    "h2o_df = h2o.H2OFrame(df)"
   ]
  },
  {
   "cell_type": "code",
   "execution_count": 46,
   "metadata": {
    "colab": {
     "base_uri": "https://localhost:8080/"
    },
    "colab_type": "code",
    "executionInfo": {
     "elapsed": 87302,
     "status": "ok",
     "timestamp": 1576771260222,
     "user": {
      "displayName": "Aleksandr Shchegolev",
      "photoUrl": "",
      "userId": "00652555022685556919"
     },
     "user_tz": -180
    },
    "id": "meqzcQNpI6JJ",
    "outputId": "9f4c3122-8fbc-4fc3-c3af-cd9fc7634fd8"
   },
   "outputs": [
    {
     "name": "stdout",
     "output_type": "stream",
     "text": [
      "glm prediction progress: |████████████████████████████████████████████████| 100%\n",
      "glm prediction progress: |████████████████████████████████████████████████| 100%\n"
     ]
    }
   ],
   "source": [
    "df['CountPredicted'] = glm_poisson.predict(h2o_df).as_data_frame()\n",
    "df['AvgClaimPredicted'] = glm_gamma.predict(h2o_df).as_data_frame()"
   ]
  },
  {
   "cell_type": "code",
   "execution_count": 47,
   "metadata": {
    "colab": {
     "base_uri": "https://localhost:8080/"
    },
    "colab_type": "code",
    "executionInfo": {
     "elapsed": 87297,
     "status": "ok",
     "timestamp": 1576771260223,
     "user": {
      "displayName": "Aleksandr Shchegolev",
      "photoUrl": "",
      "userId": "00652555022685556919"
     },
     "user_tz": -180
    },
    "id": "gjK52WywJdHk",
    "outputId": "cd0f4a2c-7014-4da3-a9c1-8a191f6632e9"
   },
   "outputs": [
    {
     "data": {
      "text/html": [
       "<div>\n",
       "<style scoped>\n",
       "    .dataframe tbody tr th:only-of-type {\n",
       "        vertical-align: middle;\n",
       "    }\n",
       "\n",
       "    .dataframe tbody tr th {\n",
       "        vertical-align: top;\n",
       "    }\n",
       "\n",
       "    .dataframe thead th {\n",
       "        text-align: right;\n",
       "    }\n",
       "</style>\n",
       "<table border=\"1\" class=\"dataframe\">\n",
       "  <thead>\n",
       "    <tr style=\"text-align: right;\">\n",
       "      <th></th>\n",
       "      <th>CountPredicted</th>\n",
       "      <th>AvgClaimPredicted</th>\n",
       "      <th>BurningCost</th>\n",
       "    </tr>\n",
       "  </thead>\n",
       "  <tbody>\n",
       "    <tr>\n",
       "      <th>0</th>\n",
       "      <td>0.375992</td>\n",
       "      <td>988.222409</td>\n",
       "      <td>371.563352</td>\n",
       "    </tr>\n",
       "    <tr>\n",
       "      <th>1</th>\n",
       "      <td>0.376009</td>\n",
       "      <td>987.880713</td>\n",
       "      <td>371.452138</td>\n",
       "    </tr>\n",
       "    <tr>\n",
       "      <th>2</th>\n",
       "      <td>0.322919</td>\n",
       "      <td>1039.015533</td>\n",
       "      <td>335.517481</td>\n",
       "    </tr>\n",
       "    <tr>\n",
       "      <th>3</th>\n",
       "      <td>0.261780</td>\n",
       "      <td>926.138283</td>\n",
       "      <td>242.444676</td>\n",
       "    </tr>\n",
       "    <tr>\n",
       "      <th>4</th>\n",
       "      <td>0.230704</td>\n",
       "      <td>923.064855</td>\n",
       "      <td>212.954902</td>\n",
       "    </tr>\n",
       "  </tbody>\n",
       "</table>\n",
       "</div>"
      ],
      "text/plain": [
       "   CountPredicted  AvgClaimPredicted  BurningCost\n",
       "0        0.375992         988.222409   371.563352\n",
       "1        0.376009         987.880713   371.452138\n",
       "2        0.322919        1039.015533   335.517481\n",
       "3        0.261780         926.138283   242.444676\n",
       "4        0.230704         923.064855   212.954902"
      ]
     },
     "execution_count": 47,
     "metadata": {},
     "output_type": "execute_result"
    }
   ],
   "source": [
    "df['BurningCost'] = df.CountPredicted * df.AvgClaimPredicted\n",
    "df[['CountPredicted', 'AvgClaimPredicted', 'BurningCost']].head()"
   ]
  },
  {
   "cell_type": "markdown",
   "metadata": {
    "colab_type": "text",
    "id": "Xljx8j0-_jXR"
   },
   "source": [
    "## * Домашнее задание: GLM для прогнозирования наступления страхового случая"
   ]
  },
  {
   "cell_type": "code",
   "execution_count": 48,
   "metadata": {
    "colab": {},
    "colab_type": "code",
    "id": "EgD9hvYAIury"
   },
   "outputs": [],
   "source": [
    "# Разбиение датасета на train/val/test\n",
    "\n",
    "x_train_ind, x_test_ind, y_train_ind, y_test_ind = train_test_split(df.drop(['ClaimInd', 'ClaimAmount', 'ClaimsCount', 'CountPredicted', 'AvgClaimPredicted', 'BurningCost'], axis=1), df.ClaimInd, test_size=0.15, random_state=1)\n",
    "x_train_ind, x_valid_ind, y_train_ind, y_valid_ind = train_test_split(x_train_ind, y_train_ind, test_size=0.15, random_state=1)"
   ]
  },
  {
   "cell_type": "code",
   "execution_count": 49,
   "metadata": {
    "colab": {
     "base_uri": "https://localhost:8080/"
    },
    "colab_type": "code",
    "executionInfo": {
     "elapsed": 87289,
     "status": "ok",
     "timestamp": 1576771260224,
     "user": {
      "displayName": "Aleksandr Shchegolev",
      "photoUrl": "",
      "userId": "00652555022685556919"
     },
     "user_tz": -180
    },
    "id": "Bt_i4clofGFR",
    "outputId": "aa0a2454-a71d-4d0e-fb5b-1903137b4e18"
   },
   "outputs": [
    {
     "name": "stdout",
     "output_type": "stream",
     "text": [
      "Parse progress: |█████████████████████████████████████████████████████████| 100%\n",
      "Parse progress: |█████████████████████████████████████████████████████████| 100%\n",
      "Parse progress: |█████████████████████████████████████████████████████████| 100%\n"
     ]
    }
   ],
   "source": [
    "# Преобразование в H2O-Frame\n",
    "\n",
    "h2o_train_ind = h2o.H2OFrame(pd.concat([x_train_ind, y_train_ind], axis=1))\n",
    "h2o_test_ind = h2o.H2OFrame(pd.concat([x_test_ind, y_test_ind], axis=1))\n",
    "h2o_valid_ind = h2o.H2OFrame(pd.concat([x_valid_ind, y_valid_ind], axis=1))"
   ]
  },
  {
   "cell_type": "code",
   "execution_count": 50,
   "metadata": {
    "colab": {
     "base_uri": "https://localhost:8080/"
    },
    "colab_type": "code",
    "executionInfo": {
     "elapsed": 87284,
     "status": "ok",
     "timestamp": 1576771260224,
     "user": {
      "displayName": "Aleksandr Shchegolev",
      "photoUrl": "",
      "userId": "00652555022685556919"
     },
     "user_tz": -180
    },
    "id": "5ETBVckIjIRC",
    "outputId": "323cda4d-7a22-4c17-a4bf-6dc878bb9c37"
   },
   "outputs": [],
   "source": [
    "# Преобразуем целевую переменную ClaimInd в категориальную при помощи метода asfactor во всех наборах данных\n",
    "\n",
    "h2o_test_ind['ClaimInd'] = h2o_test_ind['ClaimInd'].asfactor()\n",
    "h2o_train_ind['ClaimInd'] = h2o_train_ind['ClaimInd'].asfactor()\n",
    "h2o_valid_ind['ClaimInd'] = h2o_valid_ind['ClaimInd'].asfactor()"
   ]
  },
  {
   "cell_type": "code",
   "execution_count": 51,
   "metadata": {},
   "outputs": [
    {
     "name": "stdout",
     "output_type": "stream",
     "text": [
      "[0 1]\n"
     ]
    }
   ],
   "source": [
    "print(df['ClaimInd'].unique())"
   ]
  },
  {
   "cell_type": "markdown",
   "metadata": {},
   "source": [
    "Классов всего два (1 и 0: наступил или не наступил страховой случай), поэтому выбраны логистическая регрессия и биномиальное распределение. Согласно документации http://docs.h2o.ai/h2o/latest-stable/h2o-docs/booklets/GLMBooklet.pdf настройка прозводится так:"
   ]
  },
  {
   "cell_type": "code",
   "execution_count": 52,
   "metadata": {
    "colab": {
     "base_uri": "https://localhost:8080/"
    },
    "colab_type": "code",
    "executionInfo": {
     "elapsed": 87275,
     "status": "ok",
     "timestamp": 1576771260225,
     "user": {
      "displayName": "Aleksandr Shchegolev",
      "photoUrl": "",
      "userId": "00652555022685556919"
     },
     "user_tz": -180
    },
    "id": "xoT7OG9ljwKY",
    "outputId": "874df7ed-3b2c-41e7-e32a-52c3f26b7df0"
   },
   "outputs": [
    {
     "name": "stdout",
     "output_type": "stream",
     "text": [
      "glm Model Build progress: |███████████████████████████████████████████████| 100%\n"
     ]
    }
   ],
   "source": [
    "# Инициализируем и обучим GLM модель c кросс-валидацией\n",
    "\n",
    "glm_binom = H2OGeneralizedLinearEstimator(family = \"binomial\", nfolds=5)\n",
    "glm_binom.train(y=\"ClaimInd\", x=h2o_train_ind.names[1:-1],\n",
    "                training_frame=h2o_train_ind,\n",
    "                validation_frame=h2o_valid_ind,\n",
    "                weights_column = \"Exposure\")"
   ]
  },
  {
   "cell_type": "code",
   "execution_count": 53,
   "metadata": {
    "colab": {
     "base_uri": "https://localhost:8080/"
    },
    "colab_type": "code",
    "executionInfo": {
     "elapsed": 87269,
     "status": "ok",
     "timestamp": 1576771260225,
     "user": {
      "displayName": "Aleksandr Shchegolev",
      "photoUrl": "",
      "userId": "00652555022685556919"
     },
     "user_tz": -180
    },
    "id": "WXbmbcSDoOXs",
    "outputId": "f0b1bda6-3cc3-4fa3-99b6-b7d03e1b7480"
   },
   "outputs": [
    {
     "name": "stdout",
     "output_type": "stream",
     "text": [
      "\n",
      "GLM Model: summary\n"
     ]
    },
    {
     "data": {
      "text/html": [
       "<div>\n",
       "<style scoped>\n",
       "    .dataframe tbody tr th:only-of-type {\n",
       "        vertical-align: middle;\n",
       "    }\n",
       "\n",
       "    .dataframe tbody tr th {\n",
       "        vertical-align: top;\n",
       "    }\n",
       "\n",
       "    .dataframe thead th {\n",
       "        text-align: right;\n",
       "    }\n",
       "</style>\n",
       "<table border=\"1\" class=\"dataframe\">\n",
       "  <thead>\n",
       "    <tr style=\"text-align: right;\">\n",
       "      <th></th>\n",
       "      <th></th>\n",
       "      <th>family</th>\n",
       "      <th>link</th>\n",
       "      <th>regularization</th>\n",
       "      <th>number_of_predictors_total</th>\n",
       "      <th>number_of_active_predictors</th>\n",
       "      <th>number_of_iterations</th>\n",
       "      <th>training_frame</th>\n",
       "    </tr>\n",
       "  </thead>\n",
       "  <tbody>\n",
       "    <tr>\n",
       "      <th>0</th>\n",
       "      <td></td>\n",
       "      <td>binomial</td>\n",
       "      <td>logit</td>\n",
       "      <td>Elastic Net (alpha = 0.5, lambda = 3.226E-5 )</td>\n",
       "      <td>20</td>\n",
       "      <td>20</td>\n",
       "      <td>3</td>\n",
       "      <td>py_1_sid_870d</td>\n",
       "    </tr>\n",
       "  </tbody>\n",
       "</table>\n",
       "</div>"
      ],
      "text/plain": [
       "       family   link                                 regularization  \\\n",
       "0    binomial  logit  Elastic Net (alpha = 0.5, lambda = 3.226E-5 )   \n",
       "\n",
       "   number_of_predictors_total number_of_active_predictors  \\\n",
       "0                          20                          20   \n",
       "\n",
       "   number_of_iterations training_frame  \n",
       "0                     3  py_1_sid_870d  "
      ]
     },
     "metadata": {},
     "output_type": "display_data"
    },
    {
     "data": {
      "text/plain": []
     },
     "execution_count": 53,
     "metadata": {},
     "output_type": "execute_result"
    }
   ],
   "source": [
    "# Параметры модели: распределение, функция связи, гиперпараметры регуляризации, количество использованных объясняющих переменных\n",
    "\n",
    "glm_binom.summary()"
   ]
  },
  {
   "cell_type": "code",
   "execution_count": 54,
   "metadata": {
    "colab": {
     "base_uri": "https://localhost:8080/"
    },
    "colab_type": "code",
    "executionInfo": {
     "elapsed": 87264,
     "status": "ok",
     "timestamp": 1576771260225,
     "user": {
      "displayName": "Aleksandr Shchegolev",
      "photoUrl": "",
      "userId": "00652555022685556919"
     },
     "user_tz": -180
    },
    "id": "mUvoWpAkoRir",
    "outputId": "9cfa94ff-b9db-4a0f-8c16-405c962168ae"
   },
   "outputs": [
    {
     "data": {
      "text/html": [
       "<div>\n",
       "<style scoped>\n",
       "    .dataframe tbody tr th:only-of-type {\n",
       "        vertical-align: middle;\n",
       "    }\n",
       "\n",
       "    .dataframe tbody tr th {\n",
       "        vertical-align: top;\n",
       "    }\n",
       "\n",
       "    .dataframe thead th {\n",
       "        text-align: right;\n",
       "    }\n",
       "</style>\n",
       "<table border=\"1\" class=\"dataframe\">\n",
       "  <thead>\n",
       "    <tr style=\"text-align: right;\">\n",
       "      <th></th>\n",
       "      <th></th>\n",
       "      <th>mean</th>\n",
       "      <th>sd</th>\n",
       "      <th>cv_1_valid</th>\n",
       "      <th>cv_2_valid</th>\n",
       "      <th>cv_3_valid</th>\n",
       "      <th>cv_4_valid</th>\n",
       "      <th>cv_5_valid</th>\n",
       "    </tr>\n",
       "  </thead>\n",
       "  <tbody>\n",
       "    <tr>\n",
       "      <th>0</th>\n",
       "      <td>accuracy</td>\n",
       "      <td>0.46671304</td>\n",
       "      <td>0.09610284</td>\n",
       "      <td>0.5338987</td>\n",
       "      <td>0.48677325</td>\n",
       "      <td>0.31148627</td>\n",
       "      <td>0.44769102</td>\n",
       "      <td>0.55371594</td>\n",
       "    </tr>\n",
       "    <tr>\n",
       "      <th>1</th>\n",
       "      <td>auc</td>\n",
       "      <td>0.5704972</td>\n",
       "      <td>0.0128757665</td>\n",
       "      <td>0.5893784</td>\n",
       "      <td>0.5555718</td>\n",
       "      <td>0.56919867</td>\n",
       "      <td>0.5628974</td>\n",
       "      <td>0.5754399</td>\n",
       "    </tr>\n",
       "    <tr>\n",
       "      <th>2</th>\n",
       "      <td>aucpr</td>\n",
       "      <td>0.15611616</td>\n",
       "      <td>0.010768016</td>\n",
       "      <td>0.1729398</td>\n",
       "      <td>0.1434483</td>\n",
       "      <td>0.15572163</td>\n",
       "      <td>0.15168</td>\n",
       "      <td>0.15679105</td>\n",
       "    </tr>\n",
       "    <tr>\n",
       "      <th>3</th>\n",
       "      <td>err</td>\n",
       "      <td>0.5332869</td>\n",
       "      <td>0.09610284</td>\n",
       "      <td>0.4661013</td>\n",
       "      <td>0.51322675</td>\n",
       "      <td>0.68851376</td>\n",
       "      <td>0.552309</td>\n",
       "      <td>0.44628403</td>\n",
       "    </tr>\n",
       "    <tr>\n",
       "      <th>4</th>\n",
       "      <td>err_count</td>\n",
       "      <td>3922.1694</td>\n",
       "      <td>720.9672</td>\n",
       "      <td>3408.003</td>\n",
       "      <td>3789.36</td>\n",
       "      <td>5088.239</td>\n",
       "      <td>4051.674</td>\n",
       "      <td>3273.571</td>\n",
       "    </tr>\n",
       "    <tr>\n",
       "      <th>5</th>\n",
       "      <td>f0point5</td>\n",
       "      <td>0.17619686</td>\n",
       "      <td>0.012831638</td>\n",
       "      <td>0.19675523</td>\n",
       "      <td>0.16639318</td>\n",
       "      <td>0.16867301</td>\n",
       "      <td>0.16833572</td>\n",
       "      <td>0.18082713</td>\n",
       "    </tr>\n",
       "    <tr>\n",
       "      <th>6</th>\n",
       "      <td>f1</td>\n",
       "      <td>0.24234556</td>\n",
       "      <td>0.013515995</td>\n",
       "      <td>0.26437718</td>\n",
       "      <td>0.22901195</td>\n",
       "      <td>0.24130747</td>\n",
       "      <td>0.23420651</td>\n",
       "      <td>0.24282469</td>\n",
       "    </tr>\n",
       "    <tr>\n",
       "      <th>7</th>\n",
       "      <td>f2</td>\n",
       "      <td>0.389623</td>\n",
       "      <td>0.02384098</td>\n",
       "      <td>0.40282097</td>\n",
       "      <td>0.36720064</td>\n",
       "      <td>0.42380956</td>\n",
       "      <td>0.38476887</td>\n",
       "      <td>0.36951482</td>\n",
       "    </tr>\n",
       "    <tr>\n",
       "      <th>8</th>\n",
       "      <td>lift_top_group</td>\n",
       "      <td>0.0</td>\n",
       "      <td>0.0</td>\n",
       "      <td>0.0</td>\n",
       "      <td>0.0</td>\n",
       "      <td>0.0</td>\n",
       "      <td>0.0</td>\n",
       "      <td>0.0</td>\n",
       "    </tr>\n",
       "    <tr>\n",
       "      <th>9</th>\n",
       "      <td>logloss</td>\n",
       "      <td>0.37895122</td>\n",
       "      <td>0.007441503</td>\n",
       "      <td>0.3916695</td>\n",
       "      <td>0.37340719</td>\n",
       "      <td>0.37934417</td>\n",
       "      <td>0.37483028</td>\n",
       "      <td>0.37550503</td>\n",
       "    </tr>\n",
       "    <tr>\n",
       "      <th>10</th>\n",
       "      <td>max_per_class_error</td>\n",
       "      <td>0.5623693</td>\n",
       "      <td>0.12630786</td>\n",
       "      <td>0.47940162</td>\n",
       "      <td>0.5312954</td>\n",
       "      <td>0.76833236</td>\n",
       "      <td>0.58467245</td>\n",
       "      <td>0.44814467</td>\n",
       "    </tr>\n",
       "    <tr>\n",
       "      <th>11</th>\n",
       "      <td>mcc</td>\n",
       "      <td>0.07176217</td>\n",
       "      <td>0.01612528</td>\n",
       "      <td>0.095422946</td>\n",
       "      <td>0.05493849</td>\n",
       "      <td>0.06969464</td>\n",
       "      <td>0.05984898</td>\n",
       "      <td>0.07890579</td>\n",
       "    </tr>\n",
       "    <tr>\n",
       "      <th>12</th>\n",
       "      <td>mean_per_class_accuracy</td>\n",
       "      <td>0.55160993</td>\n",
       "      <td>0.012362664</td>\n",
       "      <td>0.56973624</td>\n",
       "      <td>0.5415175</td>\n",
       "      <td>0.5432365</td>\n",
       "      <td>0.5443383</td>\n",
       "      <td>0.5592212</td>\n",
       "    </tr>\n",
       "    <tr>\n",
       "      <th>13</th>\n",
       "      <td>mean_per_class_error</td>\n",
       "      <td>0.44839007</td>\n",
       "      <td>0.012362664</td>\n",
       "      <td>0.43026376</td>\n",
       "      <td>0.45848247</td>\n",
       "      <td>0.4567635</td>\n",
       "      <td>0.4556617</td>\n",
       "      <td>0.44077882</td>\n",
       "    </tr>\n",
       "    <tr>\n",
       "      <th>14</th>\n",
       "      <td>mse</td>\n",
       "      <td>0.110784575</td>\n",
       "      <td>0.0030311795</td>\n",
       "      <td>0.115944065</td>\n",
       "      <td>0.108411215</td>\n",
       "      <td>0.11096047</td>\n",
       "      <td>0.10910187</td>\n",
       "      <td>0.10950527</td>\n",
       "    </tr>\n",
       "    <tr>\n",
       "      <th>15</th>\n",
       "      <td>null_deviance</td>\n",
       "      <td>5620.7124</td>\n",
       "      <td>112.557014</td>\n",
       "      <td>5802.5474</td>\n",
       "      <td>5538.556</td>\n",
       "      <td>5657.078</td>\n",
       "      <td>5540.7266</td>\n",
       "      <td>5564.6543</td>\n",
       "    </tr>\n",
       "    <tr>\n",
       "      <th>16</th>\n",
       "      <td>pr_auc</td>\n",
       "      <td>0.15611616</td>\n",
       "      <td>0.010768016</td>\n",
       "      <td>0.1729398</td>\n",
       "      <td>0.1434483</td>\n",
       "      <td>0.15572163</td>\n",
       "      <td>0.15168</td>\n",
       "      <td>0.15679105</td>\n",
       "    </tr>\n",
       "    <tr>\n",
       "      <th>17</th>\n",
       "      <td>precision</td>\n",
       "      <td>0.14911893</td>\n",
       "      <td>0.012126875</td>\n",
       "      <td>0.16809231</td>\n",
       "      <td>0.14073841</td>\n",
       "      <td>0.1404825</td>\n",
       "      <td>0.14175634</td>\n",
       "      <td>0.15452509</td>\n",
       "    </tr>\n",
       "    <tr>\n",
       "      <th>18</th>\n",
       "      <td>r2</td>\n",
       "      <td>0.0062487256</td>\n",
       "      <td>0.0025304023</td>\n",
       "      <td>0.009202476</td>\n",
       "      <td>0.002483619</td>\n",
       "      <td>0.0064790044</td>\n",
       "      <td>0.005423644</td>\n",
       "      <td>0.0076548853</td>\n",
       "    </tr>\n",
       "    <tr>\n",
       "      <th>19</th>\n",
       "      <td>recall</td>\n",
       "      <td>0.6655892</td>\n",
       "      <td>0.11233227</td>\n",
       "      <td>0.6188741</td>\n",
       "      <td>0.6143305</td>\n",
       "      <td>0.85480535</td>\n",
       "      <td>0.673349</td>\n",
       "      <td>0.56658703</td>\n",
       "    </tr>\n",
       "    <tr>\n",
       "      <th>20</th>\n",
       "      <td>residual_deviance</td>\n",
       "      <td>5571.328</td>\n",
       "      <td>97.510475</td>\n",
       "      <td>5727.557</td>\n",
       "      <td>5514.0317</td>\n",
       "      <td>5606.842</td>\n",
       "      <td>5499.422</td>\n",
       "      <td>5508.789</td>\n",
       "    </tr>\n",
       "    <tr>\n",
       "      <th>21</th>\n",
       "      <td>rmse</td>\n",
       "      <td>0.3328186</td>\n",
       "      <td>0.004521675</td>\n",
       "      <td>0.3405056</td>\n",
       "      <td>0.3292586</td>\n",
       "      <td>0.3331073</td>\n",
       "      <td>0.33030573</td>\n",
       "      <td>0.3309158</td>\n",
       "    </tr>\n",
       "    <tr>\n",
       "      <th>22</th>\n",
       "      <td>specificity</td>\n",
       "      <td>0.43763068</td>\n",
       "      <td>0.12630786</td>\n",
       "      <td>0.52059835</td>\n",
       "      <td>0.46870455</td>\n",
       "      <td>0.23166762</td>\n",
       "      <td>0.41532758</td>\n",
       "      <td>0.5518553</td>\n",
       "    </tr>\n",
       "  </tbody>\n",
       "</table>\n",
       "</div>"
      ],
      "text/plain": [
       "                                     mean            sd   cv_1_valid  \\\n",
       "0                  accuracy    0.46671304    0.09610284    0.5338987   \n",
       "1                       auc     0.5704972  0.0128757665    0.5893784   \n",
       "2                     aucpr    0.15611616   0.010768016    0.1729398   \n",
       "3                       err     0.5332869    0.09610284    0.4661013   \n",
       "4                 err_count     3922.1694      720.9672     3408.003   \n",
       "5                  f0point5    0.17619686   0.012831638   0.19675523   \n",
       "6                        f1    0.24234556   0.013515995   0.26437718   \n",
       "7                        f2      0.389623    0.02384098   0.40282097   \n",
       "8            lift_top_group           0.0           0.0          0.0   \n",
       "9                   logloss    0.37895122   0.007441503    0.3916695   \n",
       "10      max_per_class_error     0.5623693    0.12630786   0.47940162   \n",
       "11                      mcc    0.07176217    0.01612528  0.095422946   \n",
       "12  mean_per_class_accuracy    0.55160993   0.012362664   0.56973624   \n",
       "13     mean_per_class_error    0.44839007   0.012362664   0.43026376   \n",
       "14                      mse   0.110784575  0.0030311795  0.115944065   \n",
       "15            null_deviance     5620.7124    112.557014    5802.5474   \n",
       "16                   pr_auc    0.15611616   0.010768016    0.1729398   \n",
       "17                precision    0.14911893   0.012126875   0.16809231   \n",
       "18                       r2  0.0062487256  0.0025304023  0.009202476   \n",
       "19                   recall     0.6655892    0.11233227    0.6188741   \n",
       "20        residual_deviance      5571.328     97.510475     5727.557   \n",
       "21                     rmse     0.3328186   0.004521675    0.3405056   \n",
       "22              specificity    0.43763068    0.12630786   0.52059835   \n",
       "\n",
       "     cv_2_valid    cv_3_valid   cv_4_valid    cv_5_valid  \n",
       "0    0.48677325    0.31148627   0.44769102    0.55371594  \n",
       "1     0.5555718    0.56919867    0.5628974     0.5754399  \n",
       "2     0.1434483    0.15572163      0.15168    0.15679105  \n",
       "3    0.51322675    0.68851376     0.552309    0.44628403  \n",
       "4       3789.36      5088.239     4051.674      3273.571  \n",
       "5    0.16639318    0.16867301   0.16833572    0.18082713  \n",
       "6    0.22901195    0.24130747   0.23420651    0.24282469  \n",
       "7    0.36720064    0.42380956   0.38476887    0.36951482  \n",
       "8           0.0           0.0          0.0           0.0  \n",
       "9    0.37340719    0.37934417   0.37483028    0.37550503  \n",
       "10    0.5312954    0.76833236   0.58467245    0.44814467  \n",
       "11   0.05493849    0.06969464   0.05984898    0.07890579  \n",
       "12    0.5415175     0.5432365    0.5443383     0.5592212  \n",
       "13   0.45848247     0.4567635    0.4556617    0.44077882  \n",
       "14  0.108411215    0.11096047   0.10910187    0.10950527  \n",
       "15     5538.556      5657.078    5540.7266     5564.6543  \n",
       "16    0.1434483    0.15572163      0.15168    0.15679105  \n",
       "17   0.14073841     0.1404825   0.14175634    0.15452509  \n",
       "18  0.002483619  0.0064790044  0.005423644  0.0076548853  \n",
       "19    0.6143305    0.85480535     0.673349    0.56658703  \n",
       "20    5514.0317      5606.842     5499.422      5508.789  \n",
       "21    0.3292586     0.3331073   0.33030573     0.3309158  \n",
       "22   0.46870455    0.23166762   0.41532758     0.5518553  "
      ]
     },
     "execution_count": 54,
     "metadata": {},
     "output_type": "execute_result"
    }
   ],
   "source": [
    "# Метрики качества модели - по всем данным и на кросс-валидации\n",
    "\n",
    "glm_binom.cross_validation_metrics_summary().as_data_frame()"
   ]
  },
  {
   "cell_type": "code",
   "execution_count": 55,
   "metadata": {
    "colab": {
     "base_uri": "https://localhost:8080/"
    },
    "colab_type": "code",
    "executionInfo": {
     "elapsed": 87259,
     "status": "ok",
     "timestamp": 1576771260226,
     "user": {
      "displayName": "Aleksandr Shchegolev",
      "photoUrl": "",
      "userId": "00652555022685556919"
     },
     "user_tz": -180
    },
    "id": "D8USRdSmoYy_",
    "outputId": "596810a0-a21f-4a78-e8d1-e660c98e2ea9"
   },
   "outputs": [
    {
     "data": {
      "text/html": [
       "<div>\n",
       "<style scoped>\n",
       "    .dataframe tbody tr th:only-of-type {\n",
       "        vertical-align: middle;\n",
       "    }\n",
       "\n",
       "    .dataframe tbody tr th {\n",
       "        vertical-align: top;\n",
       "    }\n",
       "\n",
       "    .dataframe thead th {\n",
       "        text-align: right;\n",
       "    }\n",
       "</style>\n",
       "<table border=\"1\" class=\"dataframe\">\n",
       "  <thead>\n",
       "    <tr style=\"text-align: right;\">\n",
       "      <th></th>\n",
       "      <th>names</th>\n",
       "      <th>coefficients</th>\n",
       "      <th>standardized_coefficients</th>\n",
       "    </tr>\n",
       "  </thead>\n",
       "  <tbody>\n",
       "    <tr>\n",
       "      <th>0</th>\n",
       "      <td>Intercept</td>\n",
       "      <td>-2.281283</td>\n",
       "      <td>-1.945709</td>\n",
       "    </tr>\n",
       "    <tr>\n",
       "      <th>1</th>\n",
       "      <td>LicAge</td>\n",
       "      <td>-0.000124</td>\n",
       "      <td>-0.019844</td>\n",
       "    </tr>\n",
       "    <tr>\n",
       "      <th>2</th>\n",
       "      <td>Gender</td>\n",
       "      <td>-0.006755</td>\n",
       "      <td>-0.003273</td>\n",
       "    </tr>\n",
       "    <tr>\n",
       "      <th>3</th>\n",
       "      <td>MariStat</td>\n",
       "      <td>-0.059439</td>\n",
       "      <td>-0.021257</td>\n",
       "    </tr>\n",
       "    <tr>\n",
       "      <th>4</th>\n",
       "      <td>DrivAge</td>\n",
       "      <td>-0.004067</td>\n",
       "      <td>-0.060961</td>\n",
       "    </tr>\n",
       "    <tr>\n",
       "      <th>5</th>\n",
       "      <td>HasKmLimit</td>\n",
       "      <td>-0.412808</td>\n",
       "      <td>-0.127837</td>\n",
       "    </tr>\n",
       "    <tr>\n",
       "      <th>6</th>\n",
       "      <td>BonusMalus</td>\n",
       "      <td>0.006568</td>\n",
       "      <td>0.099217</td>\n",
       "    </tr>\n",
       "    <tr>\n",
       "      <th>7</th>\n",
       "      <td>OutUseNb</td>\n",
       "      <td>0.087129</td>\n",
       "      <td>0.058411</td>\n",
       "    </tr>\n",
       "    <tr>\n",
       "      <th>8</th>\n",
       "      <td>RiskArea</td>\n",
       "      <td>0.008654</td>\n",
       "      <td>0.019165</td>\n",
       "    </tr>\n",
       "    <tr>\n",
       "      <th>9</th>\n",
       "      <td>VehUsg_Private</td>\n",
       "      <td>-0.156076</td>\n",
       "      <td>-0.074007</td>\n",
       "    </tr>\n",
       "    <tr>\n",
       "      <th>10</th>\n",
       "      <td>VehUsg_Private+trip to office</td>\n",
       "      <td>-0.004492</td>\n",
       "      <td>-0.002246</td>\n",
       "    </tr>\n",
       "    <tr>\n",
       "      <th>11</th>\n",
       "      <td>VehUsg_Professional</td>\n",
       "      <td>0.275953</td>\n",
       "      <td>0.092647</td>\n",
       "    </tr>\n",
       "    <tr>\n",
       "      <th>12</th>\n",
       "      <td>VehUsg_Professional run</td>\n",
       "      <td>0.290163</td>\n",
       "      <td>0.039857</td>\n",
       "    </tr>\n",
       "    <tr>\n",
       "      <th>13</th>\n",
       "      <td>CSP1</td>\n",
       "      <td>-0.059433</td>\n",
       "      <td>-0.009202</td>\n",
       "    </tr>\n",
       "    <tr>\n",
       "      <th>14</th>\n",
       "      <td>CSP2</td>\n",
       "      <td>-0.141911</td>\n",
       "      <td>-0.023962</td>\n",
       "    </tr>\n",
       "    <tr>\n",
       "      <th>15</th>\n",
       "      <td>CSP3</td>\n",
       "      <td>0.404095</td>\n",
       "      <td>0.041420</td>\n",
       "    </tr>\n",
       "    <tr>\n",
       "      <th>16</th>\n",
       "      <td>CSP4</td>\n",
       "      <td>0.170530</td>\n",
       "      <td>0.043145</td>\n",
       "    </tr>\n",
       "    <tr>\n",
       "      <th>17</th>\n",
       "      <td>CSP5</td>\n",
       "      <td>0.118444</td>\n",
       "      <td>0.056727</td>\n",
       "    </tr>\n",
       "    <tr>\n",
       "      <th>18</th>\n",
       "      <td>CSP6</td>\n",
       "      <td>0.201156</td>\n",
       "      <td>0.083723</td>\n",
       "    </tr>\n",
       "    <tr>\n",
       "      <th>19</th>\n",
       "      <td>CSP7</td>\n",
       "      <td>-0.513237</td>\n",
       "      <td>-0.006261</td>\n",
       "    </tr>\n",
       "    <tr>\n",
       "      <th>20</th>\n",
       "      <td>DrivAgeSq</td>\n",
       "      <td>0.000015</td>\n",
       "      <td>0.023576</td>\n",
       "    </tr>\n",
       "  </tbody>\n",
       "</table>\n",
       "</div>"
      ],
      "text/plain": [
       "                            names  coefficients  standardized_coefficients\n",
       "0                       Intercept     -2.281283                  -1.945709\n",
       "1                          LicAge     -0.000124                  -0.019844\n",
       "2                          Gender     -0.006755                  -0.003273\n",
       "3                        MariStat     -0.059439                  -0.021257\n",
       "4                         DrivAge     -0.004067                  -0.060961\n",
       "5                      HasKmLimit     -0.412808                  -0.127837\n",
       "6                      BonusMalus      0.006568                   0.099217\n",
       "7                        OutUseNb      0.087129                   0.058411\n",
       "8                        RiskArea      0.008654                   0.019165\n",
       "9                  VehUsg_Private     -0.156076                  -0.074007\n",
       "10  VehUsg_Private+trip to office     -0.004492                  -0.002246\n",
       "11            VehUsg_Professional      0.275953                   0.092647\n",
       "12        VehUsg_Professional run      0.290163                   0.039857\n",
       "13                           CSP1     -0.059433                  -0.009202\n",
       "14                           CSP2     -0.141911                  -0.023962\n",
       "15                           CSP3      0.404095                   0.041420\n",
       "16                           CSP4      0.170530                   0.043145\n",
       "17                           CSP5      0.118444                   0.056727\n",
       "18                           CSP6      0.201156                   0.083723\n",
       "19                           CSP7     -0.513237                  -0.006261\n",
       "20                      DrivAgeSq      0.000015                   0.023576"
      ]
     },
     "execution_count": 55,
     "metadata": {},
     "output_type": "execute_result"
    }
   ],
   "source": [
    "# Таблица коэффициентов модели (в зависимости от модели могут выводиться также стандартная ошибка, z-score и p-value)\n",
    "\n",
    "glm_binom._model_json['output']['coefficients_table'].as_data_frame()"
   ]
  },
  {
   "cell_type": "code",
   "execution_count": 56,
   "metadata": {
    "colab": {
     "base_uri": "https://localhost:8080/"
    },
    "colab_type": "code",
    "executionInfo": {
     "elapsed": 87254,
     "status": "ok",
     "timestamp": 1576771260226,
     "user": {
      "displayName": "Aleksandr Shchegolev",
      "photoUrl": "",
      "userId": "00652555022685556919"
     },
     "user_tz": -180
    },
    "id": "KZ_XqTchoiYX",
    "outputId": "a48d5223-c9f2-479e-9f36-abd09f9b3947"
   },
   "outputs": [
    {
     "data": {
      "text/html": [
       "<div>\n",
       "<style scoped>\n",
       "    .dataframe tbody tr th:only-of-type {\n",
       "        vertical-align: middle;\n",
       "    }\n",
       "\n",
       "    .dataframe tbody tr th {\n",
       "        vertical-align: top;\n",
       "    }\n",
       "\n",
       "    .dataframe thead th {\n",
       "        text-align: right;\n",
       "    }\n",
       "</style>\n",
       "<table border=\"1\" class=\"dataframe\">\n",
       "  <thead>\n",
       "    <tr style=\"text-align: right;\">\n",
       "      <th></th>\n",
       "      <th>overall</th>\n",
       "      <th>0</th>\n",
       "      <th>1</th>\n",
       "      <th>2</th>\n",
       "      <th>3</th>\n",
       "      <th>4</th>\n",
       "    </tr>\n",
       "  </thead>\n",
       "  <tbody>\n",
       "    <tr>\n",
       "      <th>BonusMalus</th>\n",
       "      <td>0.09922</td>\n",
       "      <td>0.08944</td>\n",
       "      <td>0.10196</td>\n",
       "      <td>0.10819</td>\n",
       "      <td>0.09686</td>\n",
       "      <td>0.10167</td>\n",
       "    </tr>\n",
       "    <tr>\n",
       "      <th>CSP1</th>\n",
       "      <td>-0.00920</td>\n",
       "      <td>-0.02314</td>\n",
       "      <td>-0.03034</td>\n",
       "      <td>-0.03560</td>\n",
       "      <td>-0.02065</td>\n",
       "      <td>-0.01603</td>\n",
       "    </tr>\n",
       "    <tr>\n",
       "      <th>CSP2</th>\n",
       "      <td>-0.02396</td>\n",
       "      <td>-0.03565</td>\n",
       "      <td>-0.04162</td>\n",
       "      <td>-0.03552</td>\n",
       "      <td>-0.05767</td>\n",
       "      <td>-0.03694</td>\n",
       "    </tr>\n",
       "    <tr>\n",
       "      <th>CSP3</th>\n",
       "      <td>0.04142</td>\n",
       "      <td>0.01769</td>\n",
       "      <td>0.03142</td>\n",
       "      <td>0.04186</td>\n",
       "      <td>0.03064</td>\n",
       "      <td>0.03052</td>\n",
       "    </tr>\n",
       "    <tr>\n",
       "      <th>CSP4</th>\n",
       "      <td>0.04315</td>\n",
       "      <td>0.01828</td>\n",
       "      <td>0.00751</td>\n",
       "      <td>0.02810</td>\n",
       "      <td>0.01557</td>\n",
       "      <td>0.01572</td>\n",
       "    </tr>\n",
       "    <tr>\n",
       "      <th>CSP5</th>\n",
       "      <td>0.05673</td>\n",
       "      <td>0.00679</td>\n",
       "      <td>0.01152</td>\n",
       "      <td>0.01608</td>\n",
       "      <td>0.00000</td>\n",
       "      <td>0.00000</td>\n",
       "    </tr>\n",
       "    <tr>\n",
       "      <th>CSP6</th>\n",
       "      <td>0.08372</td>\n",
       "      <td>0.02347</td>\n",
       "      <td>0.04669</td>\n",
       "      <td>0.04609</td>\n",
       "      <td>0.03786</td>\n",
       "      <td>0.05076</td>\n",
       "    </tr>\n",
       "    <tr>\n",
       "      <th>CSP7</th>\n",
       "      <td>-0.00626</td>\n",
       "      <td>-0.00515</td>\n",
       "      <td>-0.00200</td>\n",
       "      <td>-0.00408</td>\n",
       "      <td>-0.00414</td>\n",
       "      <td>-0.04376</td>\n",
       "    </tr>\n",
       "    <tr>\n",
       "      <th>DrivAge</th>\n",
       "      <td>-0.06096</td>\n",
       "      <td>-0.07694</td>\n",
       "      <td>-0.03331</td>\n",
       "      <td>-0.07133</td>\n",
       "      <td>-0.02718</td>\n",
       "      <td>-0.02869</td>\n",
       "    </tr>\n",
       "    <tr>\n",
       "      <th>DrivAgeSq</th>\n",
       "      <td>0.02358</td>\n",
       "      <td>0.06069</td>\n",
       "      <td>-0.03067</td>\n",
       "      <td>0.03773</td>\n",
       "      <td>0.00803</td>\n",
       "      <td>-0.01966</td>\n",
       "    </tr>\n",
       "    <tr>\n",
       "      <th>Gender</th>\n",
       "      <td>-0.00327</td>\n",
       "      <td>0.01002</td>\n",
       "      <td>-0.00072</td>\n",
       "      <td>-0.00597</td>\n",
       "      <td>-0.00379</td>\n",
       "      <td>-0.01577</td>\n",
       "    </tr>\n",
       "    <tr>\n",
       "      <th>HasKmLimit</th>\n",
       "      <td>-0.12784</td>\n",
       "      <td>-0.12976</td>\n",
       "      <td>-0.13068</td>\n",
       "      <td>-0.12189</td>\n",
       "      <td>-0.13960</td>\n",
       "      <td>-0.11696</td>\n",
       "    </tr>\n",
       "    <tr>\n",
       "      <th>Intercept</th>\n",
       "      <td>-1.94571</td>\n",
       "      <td>-1.96002</td>\n",
       "      <td>-1.94029</td>\n",
       "      <td>-1.94624</td>\n",
       "      <td>-1.94183</td>\n",
       "      <td>-1.94170</td>\n",
       "    </tr>\n",
       "    <tr>\n",
       "      <th>LicAge</th>\n",
       "      <td>-0.01984</td>\n",
       "      <td>-0.03566</td>\n",
       "      <td>-0.00250</td>\n",
       "      <td>-0.00581</td>\n",
       "      <td>-0.04105</td>\n",
       "      <td>-0.02168</td>\n",
       "    </tr>\n",
       "    <tr>\n",
       "      <th>MariStat</th>\n",
       "      <td>-0.02126</td>\n",
       "      <td>-0.03517</td>\n",
       "      <td>-0.01865</td>\n",
       "      <td>-0.00750</td>\n",
       "      <td>-0.02210</td>\n",
       "      <td>-0.02091</td>\n",
       "    </tr>\n",
       "    <tr>\n",
       "      <th>OutUseNb</th>\n",
       "      <td>0.05841</td>\n",
       "      <td>0.06084</td>\n",
       "      <td>0.06174</td>\n",
       "      <td>0.06080</td>\n",
       "      <td>0.05492</td>\n",
       "      <td>0.05323</td>\n",
       "    </tr>\n",
       "    <tr>\n",
       "      <th>RiskArea</th>\n",
       "      <td>0.01917</td>\n",
       "      <td>0.02813</td>\n",
       "      <td>0.01431</td>\n",
       "      <td>0.02029</td>\n",
       "      <td>0.02044</td>\n",
       "      <td>0.01081</td>\n",
       "    </tr>\n",
       "    <tr>\n",
       "      <th>VehUsg_Private</th>\n",
       "      <td>-0.07401</td>\n",
       "      <td>-0.06149</td>\n",
       "      <td>-0.09946</td>\n",
       "      <td>-0.08562</td>\n",
       "      <td>-0.09327</td>\n",
       "      <td>-0.09395</td>\n",
       "    </tr>\n",
       "    <tr>\n",
       "      <th>VehUsg_Private+trip to office</th>\n",
       "      <td>-0.00225</td>\n",
       "      <td>-0.01220</td>\n",
       "      <td>-0.02754</td>\n",
       "      <td>-0.01093</td>\n",
       "      <td>-0.01840</td>\n",
       "      <td>-0.01119</td>\n",
       "    </tr>\n",
       "    <tr>\n",
       "      <th>VehUsg_Professional</th>\n",
       "      <td>0.09265</td>\n",
       "      <td>0.08559</td>\n",
       "      <td>0.09090</td>\n",
       "      <td>0.08554</td>\n",
       "      <td>0.07855</td>\n",
       "      <td>0.07501</td>\n",
       "    </tr>\n",
       "    <tr>\n",
       "      <th>VehUsg_Professional run</th>\n",
       "      <td>0.03986</td>\n",
       "      <td>0.02353</td>\n",
       "      <td>0.04150</td>\n",
       "      <td>0.03695</td>\n",
       "      <td>0.04095</td>\n",
       "      <td>0.03518</td>\n",
       "    </tr>\n",
       "  </tbody>\n",
       "</table>\n",
       "</div>"
      ],
      "text/plain": [
       "                               overall        0        1        2        3  \\\n",
       "BonusMalus                     0.09922  0.08944  0.10196  0.10819  0.09686   \n",
       "CSP1                          -0.00920 -0.02314 -0.03034 -0.03560 -0.02065   \n",
       "CSP2                          -0.02396 -0.03565 -0.04162 -0.03552 -0.05767   \n",
       "CSP3                           0.04142  0.01769  0.03142  0.04186  0.03064   \n",
       "CSP4                           0.04315  0.01828  0.00751  0.02810  0.01557   \n",
       "CSP5                           0.05673  0.00679  0.01152  0.01608  0.00000   \n",
       "CSP6                           0.08372  0.02347  0.04669  0.04609  0.03786   \n",
       "CSP7                          -0.00626 -0.00515 -0.00200 -0.00408 -0.00414   \n",
       "DrivAge                       -0.06096 -0.07694 -0.03331 -0.07133 -0.02718   \n",
       "DrivAgeSq                      0.02358  0.06069 -0.03067  0.03773  0.00803   \n",
       "Gender                        -0.00327  0.01002 -0.00072 -0.00597 -0.00379   \n",
       "HasKmLimit                    -0.12784 -0.12976 -0.13068 -0.12189 -0.13960   \n",
       "Intercept                     -1.94571 -1.96002 -1.94029 -1.94624 -1.94183   \n",
       "LicAge                        -0.01984 -0.03566 -0.00250 -0.00581 -0.04105   \n",
       "MariStat                      -0.02126 -0.03517 -0.01865 -0.00750 -0.02210   \n",
       "OutUseNb                       0.05841  0.06084  0.06174  0.06080  0.05492   \n",
       "RiskArea                       0.01917  0.02813  0.01431  0.02029  0.02044   \n",
       "VehUsg_Private                -0.07401 -0.06149 -0.09946 -0.08562 -0.09327   \n",
       "VehUsg_Private+trip to office -0.00225 -0.01220 -0.02754 -0.01093 -0.01840   \n",
       "VehUsg_Professional            0.09265  0.08559  0.09090  0.08554  0.07855   \n",
       "VehUsg_Professional run        0.03986  0.02353  0.04150  0.03695  0.04095   \n",
       "\n",
       "                                     4  \n",
       "BonusMalus                     0.10167  \n",
       "CSP1                          -0.01603  \n",
       "CSP2                          -0.03694  \n",
       "CSP3                           0.03052  \n",
       "CSP4                           0.01572  \n",
       "CSP5                           0.00000  \n",
       "CSP6                           0.05076  \n",
       "CSP7                          -0.04376  \n",
       "DrivAge                       -0.02869  \n",
       "DrivAgeSq                     -0.01966  \n",
       "Gender                        -0.01577  \n",
       "HasKmLimit                    -0.11696  \n",
       "Intercept                     -1.94170  \n",
       "LicAge                        -0.02168  \n",
       "MariStat                      -0.02091  \n",
       "OutUseNb                       0.05323  \n",
       "RiskArea                       0.01081  \n",
       "VehUsg_Private                -0.09395  \n",
       "VehUsg_Private+trip to office -0.01119  \n",
       "VehUsg_Professional            0.07501  \n",
       "VehUsg_Professional run        0.03518  "
      ]
     },
     "execution_count": 56,
     "metadata": {},
     "output_type": "execute_result"
    }
   ],
   "source": [
    "# Таблица нормированных коэффициентов по всем данным и на кросс-валидации\n",
    "\n",
    "pmodels = {}\n",
    "pmodels['overall'] = glm_binom.coef_norm()\n",
    "for x in range(len(glm_binom.cross_validation_models())):\n",
    "    pmodels[x] = glm_binom.cross_validation_models()[x].coef_norm()\n",
    "pd.DataFrame.from_dict(pmodels).round(5)"
   ]
  },
  {
   "cell_type": "code",
   "execution_count": 57,
   "metadata": {
    "colab": {
     "base_uri": "https://localhost:8080/"
    },
    "colab_type": "code",
    "executionInfo": {
     "elapsed": 87249,
     "status": "ok",
     "timestamp": 1576771260227,
     "user": {
      "displayName": "Aleksandr Shchegolev",
      "photoUrl": "",
      "userId": "00652555022685556919"
     },
     "user_tz": -180
    },
    "id": "T9I59UXGpYlh",
    "outputId": "b2724135-2b85-4e15-9135-c324a7b1bf75"
   },
   "outputs": [
    {
     "name": "stdout",
     "output_type": "stream",
     "text": [
      "glm prediction progress: |████████████████████████████████████████████████| 100%\n",
      "glm prediction progress: |████████████████████████████████████████████████| 100%\n",
      "glm prediction progress: |████████████████████████████████████████████████| 100%\n"
     ]
    }
   ],
   "source": [
    "# Построение прогнозных значений для обучающей, валидационной и тестовой выборок\n",
    "\n",
    "ind_train_pred = glm_binom.predict(h2o_train_ind).as_data_frame()\n",
    "ind_test_pred = glm_binom.predict(h2o_test_ind).as_data_frame()\n",
    "ind_valid_pred = glm_binom.predict(h2o_valid_ind).as_data_frame()"
   ]
  },
  {
   "cell_type": "code",
   "execution_count": 58,
   "metadata": {
    "colab": {},
    "colab_type": "code",
    "id": "g00U1gQBp_Wq"
   },
   "outputs": [],
   "source": [
    "from sklearn.metrics import accuracy_score, f1_score, confusion_matrix"
   ]
  },
  {
   "cell_type": "code",
   "execution_count": 59,
   "metadata": {
    "colab": {
     "base_uri": "https://localhost:8080/"
    },
    "colab_type": "code",
    "executionInfo": {
     "elapsed": 87242,
     "status": "ok",
     "timestamp": 1576771260228,
     "user": {
      "displayName": "Aleksandr Shchegolev",
      "photoUrl": "",
      "userId": "00652555022685556919"
     },
     "user_tz": -180
    },
    "id": "oVwiMaWlqRCz",
    "outputId": "c6f65b9c-b2be-4cd9-b1d4-410255c41a90"
   },
   "outputs": [
    {
     "name": "stdout",
     "output_type": "stream",
     "text": [
      "TRAIN\n",
      " accuracy: 0.316798\n",
      "       f1: 0.182838\n",
      "\n",
      " confusion_matrix:\n",
      "[[19998 55351]\n",
      " [ 1490  6359]]\n",
      "\n",
      "\n",
      "TEST\n",
      " accuracy: 0.313535\n",
      "       f1: 0.180511\n",
      "\n",
      " confusion_matrix:\n",
      "[[ 4110 11550]\n",
      " [  308  1306]]\n",
      "\n",
      "\n",
      "VALID\n",
      " accuracy: 0.318327\n",
      "       f1: 0.183805\n",
      "\n",
      " confusion_matrix:\n",
      "[[3547 9730]\n",
      " [ 279 1127]]\n"
     ]
    }
   ],
   "source": [
    "# Выведем импортированные выше метрики классификации для обучающей, валидационной и тестовой выборок\n",
    "\n",
    "print(f'TRAIN\\n accuracy: {accuracy_score(y_train_ind, ind_train_pred.predict):.6f}' + \\\n",
    "      f'\\n       f1: {f1_score(y_train_ind, ind_train_pred.predict):.6f}\\n' + \\\n",
    "      f'\\n confusion_matrix:\\n{confusion_matrix(y_train_ind, ind_train_pred.predict)}\\n\\n')\n",
    "\n",
    "print(f'TEST\\n accuracy: {accuracy_score(y_test_ind, ind_test_pred.predict):.6f}' + \\\n",
    "      f'\\n       f1: {f1_score(y_test_ind, ind_test_pred.predict):.6f}\\n' + \\\n",
    "      f'\\n confusion_matrix:\\n{confusion_matrix(y_test_ind, ind_test_pred.predict)}\\n\\n')\n",
    "\n",
    "print(f'VALID\\n accuracy: {accuracy_score(y_valid_ind, ind_valid_pred.predict):.6f}' + \\\n",
    "      f'\\n       f1: {f1_score(y_valid_ind, ind_valid_pred.predict):.6f}\\n' + \\\n",
    "      f'\\n confusion_matrix:\\n{confusion_matrix(y_valid_ind, ind_valid_pred.predict)}')"
   ]
  },
  {
   "cell_type": "markdown",
   "metadata": {
    "colab_type": "text",
    "id": "2TNOSiKDs-U6"
   },
   "source": [
    "Какие проблемы вы здесь видите? Как можно улучшить данный результат?"
   ]
  },
  {
   "cell_type": "code",
   "execution_count": 60,
   "metadata": {},
   "outputs": [
    {
     "data": {
      "text/plain": [
       "0    0.905614\n",
       "1    0.094386\n",
       "Name: ClaimInd, dtype: float64"
      ]
     },
     "execution_count": 60,
     "metadata": {},
     "output_type": "execute_result"
    }
   ],
   "source": [
    "# доли классов\n",
    "df['ClaimInd'].value_counts(normalize=True)"
   ]
  },
  {
   "cell_type": "markdown",
   "metadata": {},
   "source": [
    "В данных присутствует дисбаланс классов - очень мало записей, когда страховой случай наступал. Этим объясняются низкие показатели доли правильных ответов (в три раза ниже доли самого большого класса) и $F1$-меры, а также большие количества False Negative примеров в матрице ошибок (1 как 0). Для улучшения результата перед обучением модели необходимо предпринять меры по ликвидации дисбаланса (стратегии oversampling, undersampling или reweighting)."
   ]
  }
 ],
 "metadata": {
  "colab": {
   "collapsed_sections": [
    "LoBqR6SkGDKm",
    "6qEMtZhcy0nZ",
    "rXdxE61XFNXd",
    "vTWFrSADGE2v",
    "g556ItOFqrlt",
    "idUKi7_RqxHA",
    "hUUC9Vmhf5aB",
    "fKCG1lssMNA7",
    "YttnrY4wMqu3",
    "8nmnj56EM9gK",
    "A84l-r2aIxfK",
    "Xljx8j0-_jXR"
   ],
   "name": "GB Lesson 2.ipynb",
   "provenance": []
  },
  "kernelspec": {
   "display_name": "Python 2",
   "language": "python",
   "name": "python2"
  },
  "language_info": {
   "codemirror_mode": {
    "name": "ipython",
    "version": 2
   },
   "file_extension": ".py",
   "mimetype": "text/x-python",
   "name": "python",
   "nbconvert_exporter": "python",
   "pygments_lexer": "ipython2",
   "version": "2.7.15"
  }
 },
 "nbformat": 4,
 "nbformat_minor": 1
}
